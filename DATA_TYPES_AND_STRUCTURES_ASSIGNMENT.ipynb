{
  "nbformat": 4,
  "nbformat_minor": 0,
  "metadata": {
    "colab": {
      "provenance": [],
      "authorship_tag": "ABX9TyMwnryT7qMmjWUsLKxGy4Ou",
      "include_colab_link": true
    },
    "kernelspec": {
      "name": "python3",
      "display_name": "Python 3"
    },
    "language_info": {
      "name": "python"
    }
  },
  "cells": [
    {
      "cell_type": "markdown",
      "metadata": {
        "id": "view-in-github",
        "colab_type": "text"
      },
      "source": [
        "<a href=\"https://colab.research.google.com/github/A-RSH-ART/ASSIGNMENT-/blob/main/DATA_TYPES_AND_STRUCTURES_ASSIGNMENT.ipynb\" target=\"_parent\"><img src=\"https://colab.research.google.com/assets/colab-badge.svg\" alt=\"Open In Colab\"/></a>"
      ]
    },
    {
      "cell_type": "markdown",
      "source": [
        "## **QUESTIONS**"
      ],
      "metadata": {
        "id": "3zLKBRGQ37j1"
      }
    },
    {
      "cell_type": "code",
      "execution_count": 1,
      "metadata": {
        "id": "EgVs4-W33rhK"
      },
      "outputs": [],
      "source": [
        "#Data Types & Structure"
      ]
    },
    {
      "cell_type": "markdown",
      "source": [
        "1.What are data structures and why are they important?\n",
        "\n",
        "- Data structures are specific ways to store and organize data in a computer so that it can be used efficiently. They are essential in computer science and programming because they allow for the efficient management, storage, and retrieval of data, which in turn improves the performance and scalability of software applications. Data structures help in solving complex problems by providing a framework to store and manipulate data in a structured manner. They play a crucial role in algorithm design, enabling programmers to create more efficient and effective solutions. In a nutshell, data structures are important because they form the building blocks of algorithms and software development, making it easier to work with data effectively in various computing applications."
      ],
      "metadata": {
        "id": "d3hpPJ3t35r_"
      }
    },
    {
      "cell_type": "markdown",
      "source": [
        "2. Explain the difference between mutable and immutable data types with examples.\n",
        "\n",
        "- In programming, data types can be classified into two main categories: mutable and immutable.\n",
        "\n",
        "Immutable Data Types\n",
        "\n",
        "Immutable data types are those that cannot be changed once they are created. Any attempt to modify an immutable object will result in the creation of a new object.\n",
        "\n",
        "Examples:\n",
        "\n",
        "* Integers: x = 5 (cannot change the value of x without creating a new object)\n",
        "* Strings: s = \"hello\" (cannot change the string s without creating a new string object)\n",
        "* Tuples: t = (1, 2, 3) (cannot change the tuple t without creating a new tuple object)\n",
        "\n",
        "Mutable Data Types\n",
        "\n",
        "Mutable data types are those that can be changed after they are created. Modifying a mutable object will change the original object.\n",
        "\n",
        "Examples:\n",
        "\n",
        "* Lists: lst = [1, 2, 3] (can append, insert, or remove elements from the list)\n",
        "* Dictionaries: d = {\"name\": \"John\", \"age\": 30} (can add, remove, or modify key-value pairs)\n",
        "* Sets: s = {1, 2, 3} (can add or remove elements from the set)\n",
        "\n",
        "Key differences:\n",
        "\n",
        "* Modifiability: Immutable objects cannot be changed, while mutable objects can be modified.\n",
        "* Memory allocation: Immutable objects are often stored in memory as a single, unchanging entity, while mutable objects may require dynamic memory allocation to accommodate changes."
      ],
      "metadata": {
        "id": "8vlpTxwA458r"
      }
    },
    {
      "cell_type": "markdown",
      "source": [
        "3. What are main difference between lists and tuples in Python?\n",
        "\n",
        "- In Python, list and tuple are two fundamental data structures. Here's a brief overview of the main differences:\n",
        "\n",
        "List vs Tuple:\n",
        "\n",
        "- Mutability:\n",
        "    - List: Mutable, meaning you can modify the contents after creation (e.g., append, insert, remove elements).\n",
        "    - Tuple: Immutable, meaning you cannot modify the contents after creation.\n",
        "- Syntax:\n",
        "    - List: Defined using square brackets [], e.g., [1, 2, 3].\n",
        "    - Tuple: Defined using parentheses (), e.g., (1, 2, 3).\n",
        "- Use cases:\n",
        "    - List: Suitable for situations where data needs to be modified frequently, such as when working with dynamic data or implementing algorithms that require frequent insertions or deletions.\n",
        "    - Tuple: Suitable for situations where data is constant or needs to be protected from modification, such as when representing a record or a constant collection of values.\n",
        "- Performance:\n",
        "    - Tuple: Generally faster and more memory-efficient than lists because they are immutable.\n",
        "    - List: May require more memory and computation due to their dynamic nature.\n",
        "\n"
      ],
      "metadata": {
        "id": "oM_-B_tg455C"
      }
    },
    {
      "cell_type": "markdown",
      "source": [
        "4. Describe how dictionaries store data.\n",
        "\n",
        "-  Dictionaries store data as key-value pairs, where each key is unique and maps to a specific value. The keys are used to access the corresponding values.\n",
        "\n",
        "5. Why might you use a set instead of a list in Python?\n",
        "\n",
        " - You might use a set instead of a list in Python when you need to store a collection of unique elements and perform fast membership tests. Sets are also useful when you need to perform set operations such as union, intersection, and difference.\n",
        "\n",
        "6. What is a string in Python, and how is it different from a list?\n",
        "\n",
        "- A string in Python is a sequence of characters that is immutable, meaning it cannot be changed after creation. A list, on the other hand, is a mutable sequence of elements that can be of any data type, including strings.\n",
        "\n",
        "7. How do tuples ensure data integrity in Python?\n",
        "\n",
        "- Tuples ensure data integrity in Python by being immutable, meaning that once a tuple is created, its contents cannot be modified. This prevents accidental changes to the data and ensures that the data remains consistent.\n",
        "\n"
      ],
      "metadata": {
        "id": "F9Q2jvX54518"
      }
    },
    {
      "cell_type": "markdown",
      "source": [
        "8. What is a hash table, and how does it relate to dictionaries in Python?\n",
        "\n",
        "- A hash table is a data structure that maps keys to values using a hash function. In Python, dictionaries are implemented as hash tables, which allows for fast lookups, insertions, and deletions.\n",
        "\n",
        "9. Can lists contain different data types in Python?\n",
        "\n",
        "- Yes, lists in Python can contain different data types, including strings, integers, floats, and other lists.\n",
        "\n",
        "10. Explain why strings are immutable in Python.\n",
        "\n",
        " - Strings are immutable in Python because they are implemented as objects that cannot be changed after creation. This is done to ensure that strings are thread-safe and to prevent accidental changes to the data.\n",
        "\n",
        "11. What advantages do dictionaries offer over lists for certain tasks?\n",
        "\n",
        " -    Dictionaries offer several advantages over lists for certain tasks, including:\n",
        "\n",
        "- Fast lookups: Dictionaries allow for fast lookups by key, while lists require iterating over the entire list to find an element.\n",
        "- Efficient insertions and deletions: Dictionaries can insert and delete elements efficiently, while lists may require shifting elements to make room for new elements.\n",
        "- Key-value pairs: Dictionaries store data as key-value pairs, which can be more intuitive and efficient than storing data in a list.\n",
        "\n",
        "12. Describe a scenario where using a tuple would be preferable over a list.\n",
        "\n",
        " - Using a tuple would be preferable over a list when you need to store a collection of elements that should not be changed after creation. For example, if you need to store a collection of constants or a record that should not be modified, a tuple would be a good choice.\n",
        "\n",
        "13. How do sets handle duplicate values in Python?\n",
        "\n",
        " - Sets in Python handle duplicate values by automatically removing them. When you add an element to a set that is already present, the set will not contain duplicate values.\n"
      ],
      "metadata": {
        "id": "cBqemIvt8_1L"
      }
    },
    {
      "cell_type": "markdown",
      "source": [
        "14. How does the \"in\" keyword work differently for lists and dictionaries?\n",
        "\n",
        "- The \"in\" keyword works differently for lists and dictionaries in Python. For lists, the \"in\" keyword checks if an element is present in the list. For dictionaries, the \"in\" keyword checks if a key is present in the dictionary.\n",
        "\n",
        "15. Can you modify the elements of a tuple? Explain why or why not.\n",
        "\n",
        "- No, you cannot modify the elements of a tuple in Python. Tuples are immutable, meaning that once a tuple is created, its contents cannot be changed.\n",
        "\n",
        "16. What is a nested dictionary, and give an example of its use case?\n",
        "\n",
        "- A nested dictionary is a dictionary that contains another dictionary as a value. An example of its use case is storing data about a person, where the outer dictionary contains keys for the person's name, age, and address, and the inner dictionary contains keys for the address, such as street, city, and state.\n",
        "\n",
        "17. Describe the time complexity of accessing elements in a dictionary.\n",
        "\n",
        "- The time complexity of accessing elements in a dictionary in Python is O(1) on average, making it very efficient for large datasets.\n",
        "\n"
      ],
      "metadata": {
        "id": "1NUQd89r9q7D"
      }
    },
    {
      "cell_type": "markdown",
      "source": [
        "18. In what situations are lists preferred over dictionaries?\n",
        "\n",
        "  - Lists are preferred over dictionaries in situations where:\n",
        "\n",
        "- The data is ordered or sequential.\n",
        "- The data needs to be accessed by index.\n",
        "- The data is homogeneous (i.e., all elements are of the same type).\n",
        "- Memory efficiency is a concern, as lists generally require less memory than dictionaries.\n",
        "- The data needs to be iterated over in a specific order.\n",
        "\n",
        "Examples of such situations include:\n",
        "\n",
        "- Storing a collection of items in a specific order, such as a list of tasks to be completed.\n",
        "- Representing a matrix or a table where data is accessed by row and column indices.\n",
        "- Implementing a queue or a stack data structure.\n",
        "\n",
        "19. Why are dictionaries considered unordered, and how does that affect data retrieval?\n",
        "\n",
        " - Dictionaries are considered unordered because they store data in key-value pairs, and the order of these pairs is not guaranteed. This is due to the way dictionaries are implemented internally, using hash tables to store and retrieve data efficiently.\n",
        "\n",
        "The unordered nature of dictionaries affects data retrieval in the following ways:\n",
        "\n",
        "- No index-based access: Unlike lists, dictionaries do not support index-based access. Instead, data is accessed using keys.\n",
        "- No guaranteed order: When iterating over a dictionary, the order of key-value pairs is not guaranteed and may vary between different runs of the program.\n",
        "- Faster lookup: Dictionaries provide fast lookup times, with an average time complexity of O(1), making them suitable for applications where data needs to be retrieved quickly.\n",
        "\n",
        "However, it's worth noting that in Python 3.7 and later, dictionaries maintain their insertion order, which can be useful in certain situations.\n",
        "\n"
      ],
      "metadata": {
        "id": "iN23idSy-DtI"
      }
    },
    {
      "cell_type": "markdown",
      "source": [
        "20. Explain the difference between a list and a dictionary in terms of data retrieval.\n",
        "\n",
        " -   The main differences between lists and dictionaries in terms of data retrieval are:\n",
        "\n",
        "- Access method: Lists are accessed using indices, while dictionaries are accessed using keys.\n",
        "- Order: Lists maintain their order, while dictionaries are inherently unordered (although Python 3.7+ dictionaries maintain insertion order).\n",
        "- Lookup time: Dictionaries generally provide faster lookup times than lists, especially for large datasets.\n",
        "- Data structure: Lists are implemented as arrays, while dictionaries are implemented as hash tables.\n",
        "\n",
        "When to use each:\n",
        "\n",
        "- Use lists when:\n",
        "    - You need to store a collection of items in a specific order.\n",
        "    - You need to access data by index.\n",
        "- Use dictionaries when:\n",
        "    - You need to store data in key-value pairs.\n",
        "    - You need fast lookup times.\n",
        "    - You need to store data with unique keys."
      ],
      "metadata": {
        "id": "PJvk_J5O-cPo"
      }
    },
    {
      "cell_type": "markdown",
      "source": [
        "**PRACTICAL QUESTIONS**\n"
      ],
      "metadata": {
        "id": "QlutfE2_AdWq"
      }
    },
    {
      "cell_type": "code",
      "source": [
        "#1. Write a code to create a string with your name and print it.\n",
        "name = \"ARSHIYA\"\n",
        "print(name)"
      ],
      "metadata": {
        "colab": {
          "base_uri": "https://localhost:8080/"
        },
        "id": "pGnyx_9k43mj",
        "outputId": "d2d10796-aa08-4013-feec-bee16bbe2a2d"
      },
      "execution_count": 2,
      "outputs": [
        {
          "output_type": "stream",
          "name": "stdout",
          "text": [
            "ARSHIYA\n"
          ]
        }
      ]
    },
    {
      "cell_type": "code",
      "source": [
        "# 2. Write a code to find the length of the string \"Hello World\".\n",
        "string = \"Hello World\"\n",
        "length = len(string)\n",
        "print(length)\n"
      ],
      "metadata": {
        "colab": {
          "base_uri": "https://localhost:8080/"
        },
        "id": "zoOIMqvWCfWr",
        "outputId": "9630459e-a462-419c-9d6f-cc049f6fc9d6"
      },
      "execution_count": 4,
      "outputs": [
        {
          "output_type": "stream",
          "name": "stdout",
          "text": [
            "11\n"
          ]
        }
      ]
    },
    {
      "cell_type": "code",
      "source": [
        "# 3. Write a code to slice the first 3 characters from the string \"Python Programming\".\n",
        "string = \"Python Programming\"\n",
        "sliced_string = string[:3]\n",
        "print(sliced_string)\n",
        "\n"
      ],
      "metadata": {
        "colab": {
          "base_uri": "https://localhost:8080/"
        },
        "id": "v-4Ld9ZmSz-d",
        "outputId": "47024e1d-78c2-4e91-c9e9-7cb15994269a"
      },
      "execution_count": 5,
      "outputs": [
        {
          "output_type": "stream",
          "name": "stdout",
          "text": [
            "Pyt\n"
          ]
        }
      ]
    },
    {
      "cell_type": "code",
      "source": [
        "# 4. Write a code to convert the string \"hello\" to uppercase.\n",
        "string = \"hello\"\n",
        "uppercase_string = string .upper()\n",
        "print(uppercase_string)\n"
      ],
      "metadata": {
        "colab": {
          "base_uri": "https://localhost:8080/"
        },
        "id": "qI9ZSkT0UHV2",
        "outputId": "57ddde53-1126-45c3-98b0-8bbb77e1756d"
      },
      "execution_count": 6,
      "outputs": [
        {
          "output_type": "stream",
          "name": "stdout",
          "text": [
            "HELLO\n"
          ]
        }
      ]
    },
    {
      "cell_type": "code",
      "source": [
        "# 5. Write a code to replace the word \"apple\" with \"orange\" in the string \"I like apple\".\n",
        "string = \"I like apple \"\n",
        "string = string.replace(\"apple\", \"orange\")\n",
        "print(string)"
      ],
      "metadata": {
        "colab": {
          "base_uri": "https://localhost:8080/"
        },
        "id": "urOKhMQFUn6e",
        "outputId": "11452f67-5281-40b5-967e-9b4a315ee53c"
      },
      "execution_count": 7,
      "outputs": [
        {
          "output_type": "stream",
          "name": "stdout",
          "text": [
            "I like orange \n"
          ]
        }
      ]
    },
    {
      "cell_type": "code",
      "source": [
        "# 6. Write a code to create a list with numbers 1 to 5 and print it.\n",
        "list = [1,2,3,4,5]\n",
        "print(list)"
      ],
      "metadata": {
        "colab": {
          "base_uri": "https://localhost:8080/"
        },
        "id": "PJluVJY8VI47",
        "outputId": "4a776f46-b038-44c4-fa76-1965b644b547"
      },
      "execution_count": 8,
      "outputs": [
        {
          "output_type": "stream",
          "name": "stdout",
          "text": [
            "[1, 2, 3, 4, 5]\n"
          ]
        }
      ]
    },
    {
      "cell_type": "code",
      "source": [
        "# 7. Write a code to append the number 10 to the list [1, 2, 3, 4].\n",
        "list = [1,2,3,4]\n",
        "list.append(10)\n",
        "print(list)"
      ],
      "metadata": {
        "colab": {
          "base_uri": "https://localhost:8080/"
        },
        "id": "lNaVbSpHXUfW",
        "outputId": "bea5d68c-6d38-4c61-89a6-94bc4d2b0c57"
      },
      "execution_count": 9,
      "outputs": [
        {
          "output_type": "stream",
          "name": "stdout",
          "text": [
            "[1, 2, 3, 4, 10]\n"
          ]
        }
      ]
    },
    {
      "cell_type": "code",
      "source": [
        "# 8. Write a code to remove the number 3 from the list [1, 2, 3, 4, 5].\n",
        "list = [1,2,3,4,5]\n",
        "list.remove(3)\n",
        "print(list)"
      ],
      "metadata": {
        "colab": {
          "base_uri": "https://localhost:8080/"
        },
        "id": "dkx-ESZBXp7N",
        "outputId": "b22964be-4fb0-48d6-ca26-b61e8635330e"
      },
      "execution_count": 10,
      "outputs": [
        {
          "output_type": "stream",
          "name": "stdout",
          "text": [
            "[1, 2, 4, 5]\n"
          ]
        }
      ]
    },
    {
      "cell_type": "code",
      "source": [],
      "metadata": {
        "id": "L5kgPeTQYHNd"
      },
      "execution_count": 26,
      "outputs": []
    },
    {
      "cell_type": "code",
      "source": [
        "# 9. Write a code to access the second element in the list ['a', 'b', 'c', 'd'].\n",
        "list = ['a','b','c','d']\n",
        "print(list[1])"
      ],
      "metadata": {
        "colab": {
          "base_uri": "https://localhost:8080/"
        },
        "id": "o9wZ6nTsYSNh",
        "outputId": "19536064-2ae0-4d72-9a85-354de440c343"
      },
      "execution_count": 13,
      "outputs": [
        {
          "output_type": "stream",
          "name": "stdout",
          "text": [
            "b\n"
          ]
        }
      ]
    },
    {
      "cell_type": "code",
      "source": [
        "# 10. Write a code to reverse the list [10, 20, 30, 40, 50].\n",
        "list = [10,20,30,40,50]\n",
        "list.reverse()\n",
        "print(list)"
      ],
      "metadata": {
        "colab": {
          "base_uri": "https://localhost:8080/"
        },
        "id": "dXxa_pSdYqkk",
        "outputId": "6721f738-2766-4645-bc68-f6050c2a5cf5"
      },
      "execution_count": 14,
      "outputs": [
        {
          "output_type": "stream",
          "name": "stdout",
          "text": [
            "[50, 40, 30, 20, 10]\n"
          ]
        }
      ]
    },
    {
      "cell_type": "code",
      "source": [
        "# 11. Write a code to create a tuple with the elements 100, 200, 300 and print it.\n",
        "tuple = (100,200,300)\n",
        "print(tuple)"
      ],
      "metadata": {
        "colab": {
          "base_uri": "https://localhost:8080/"
        },
        "id": "uVwynQXmcCmS",
        "outputId": "9fb6e8b3-b640-4191-bd3e-800779595997"
      },
      "execution_count": 15,
      "outputs": [
        {
          "output_type": "stream",
          "name": "stdout",
          "text": [
            "(100, 200, 300)\n"
          ]
        }
      ]
    },
    {
      "cell_type": "code",
      "source": [
        "# 12. Write a code to access the second-to-last element of the tuple ('red', 'green', 'blue', 'yellow').\n",
        "tuple = ('red', 'green', 'blue','yellow')\n",
        "print(tuple[-2])"
      ],
      "metadata": {
        "colab": {
          "base_uri": "https://localhost:8080/"
        },
        "id": "zWEkyKBTcU-z",
        "outputId": "6ac1a81d-31fd-416d-d7f5-6e009f9e9826"
      },
      "execution_count": 16,
      "outputs": [
        {
          "output_type": "stream",
          "name": "stdout",
          "text": [
            "blue\n"
          ]
        }
      ]
    },
    {
      "cell_type": "code",
      "source": [
        "# 13. Write a code to find the minimum number in the tuple (10, 20, 5, 15).\n",
        "tuple = (10,20,5,15)\n",
        "print(min(tuple))"
      ],
      "metadata": {
        "colab": {
          "base_uri": "https://localhost:8080/"
        },
        "id": "6_teaR2Gcudc",
        "outputId": "99a767c6-ae2f-41f2-b2c3-878f817f3e23"
      },
      "execution_count": 17,
      "outputs": [
        {
          "output_type": "stream",
          "name": "stdout",
          "text": [
            "5\n"
          ]
        }
      ]
    },
    {
      "cell_type": "code",
      "source": [
        "# 14. Write a code to find the index of the element \"cat\" in the tuple ('dog', 'cat', 'rabbit').\n",
        "tuple = ('dog', 'cat', 'rabbit')\n",
        "print(tuple.index('cat'))"
      ],
      "metadata": {
        "colab": {
          "base_uri": "https://localhost:8080/"
        },
        "id": "DBfpoDx9dC1x",
        "outputId": "a9e8b647-7b20-4dc9-d4d6-75f97b72f0f5"
      },
      "execution_count": 18,
      "outputs": [
        {
          "output_type": "stream",
          "name": "stdout",
          "text": [
            "1\n"
          ]
        }
      ]
    },
    {
      "cell_type": "code",
      "source": [
        "# 15. Write a code to create a tuple containing three different fruits and check if \"kiwi\" is in it.\n",
        "\n",
        "tuple = ('apple','banana','orange',)\n",
        "print('kiwi' in tuple)\n"
      ],
      "metadata": {
        "colab": {
          "base_uri": "https://localhost:8080/"
        },
        "id": "Zp5APKO7deX9",
        "outputId": "870b3350-39ac-4501-ec23-5af88bf05170"
      },
      "execution_count": 19,
      "outputs": [
        {
          "output_type": "stream",
          "name": "stdout",
          "text": [
            "False\n"
          ]
        }
      ]
    },
    {
      "cell_type": "code",
      "source": [
        " # 16. Write a code to create a set with the elements 'a', 'b', 'c' and print it.\n",
        "set = {'a','b', 'c'}\n",
        " print(set)"
      ],
      "metadata": {
        "colab": {
          "base_uri": "https://localhost:8080/"
        },
        "id": "4IOJP5IyeDg7",
        "outputId": "70ccbb04-a308-4c97-b594-690409a9cd3c"
      },
      "execution_count": 21,
      "outputs": [
        {
          "output_type": "stream",
          "name": "stdout",
          "text": [
            "{'b', 'a', 'c'}\n"
          ]
        }
      ]
    },
    {
      "cell_type": "code",
      "source": [
        "# 17. Write a code to clear all elements from the set {1, 2, 3, 4, 5}.\n",
        "set = {1,2,3,4,5}\n",
        "set.clear()\n",
        "print(set)"
      ],
      "metadata": {
        "colab": {
          "base_uri": "https://localhost:8080/"
        },
        "id": "xvNtjGZYegZZ",
        "outputId": "769489cf-4ad6-49e7-bf81-0736b00d8a32"
      },
      "execution_count": 22,
      "outputs": [
        {
          "output_type": "stream",
          "name": "stdout",
          "text": [
            "set()\n"
          ]
        }
      ]
    },
    {
      "cell_type": "code",
      "source": [
        "# 18. Write a code to remove the element 4 from the set {1, 2, 3, 4}.\n",
        "set = {1,2,3,4}\n",
        "set.remove(4)\n",
        "print(set)"
      ],
      "metadata": {
        "colab": {
          "base_uri": "https://localhost:8080/"
        },
        "id": "eMfWOEY0e-Ax",
        "outputId": "90e05467-f7f3-4b32-b2d1-ffa8cb8540f3"
      },
      "execution_count": 23,
      "outputs": [
        {
          "output_type": "stream",
          "name": "stdout",
          "text": [
            "{1, 2, 3}\n"
          ]
        }
      ]
    },
    {
      "cell_type": "code",
      "source": [
        "# 19. Write a code to find the union of two sets {1, 2, 3} and {3, 4, 5}.\n",
        "set1 = {1,2,3}\n",
        "set2 = {3,4,5}\n",
        "print(set1.union(set2))"
      ],
      "metadata": {
        "colab": {
          "base_uri": "https://localhost:8080/"
        },
        "id": "_M3KPEBjfWdK",
        "outputId": "8a1cc07d-b27b-4bf8-e197-1b2822d12349"
      },
      "execution_count": 25,
      "outputs": [
        {
          "output_type": "stream",
          "name": "stdout",
          "text": [
            "{1, 2, 3, 4, 5}\n"
          ]
        }
      ]
    },
    {
      "cell_type": "code",
      "source": [
        "# 20. Write a code to find the intersection of two sets {1, 2, 3} and {2, 3, 4}.\n",
        "set1 = {1,2,3}\n",
        "set2 = {2,3,4}\n",
        "print(set1.intersection(set2))"
      ],
      "metadata": {
        "colab": {
          "base_uri": "https://localhost:8080/"
        },
        "id": "RlXza_rhg6K3",
        "outputId": "ede4cc7a-59de-4c62-df0c-e096f2cb8106"
      },
      "execution_count": 26,
      "outputs": [
        {
          "output_type": "stream",
          "name": "stdout",
          "text": [
            "{2, 3}\n"
          ]
        }
      ]
    },
    {
      "cell_type": "code",
      "source": [
        "# 21. Write a code to create a dictionary with the keys \"name\", \"age\", and \"city\", and print it.\n",
        "dict = {\"name\": \"Arshiya\",\"age\": \"26\", \"city\":\"Beed\"}\n",
        "print(dict)"
      ],
      "metadata": {
        "colab": {
          "base_uri": "https://localhost:8080/"
        },
        "id": "E4HtWHg2hd5b",
        "outputId": "6aaa0ca7-63fd-43f5-9727-7908688b79f8"
      },
      "execution_count": 28,
      "outputs": [
        {
          "output_type": "stream",
          "name": "stdout",
          "text": [
            "{'name': 'Arshiya', 'age': '26', 'city': 'Beed'}\n"
          ]
        }
      ]
    },
    {
      "cell_type": "code",
      "source": [
        "# 22. Write a code to add a new key-value pair \"country\": \"USA\" to the dictionary {'name': 'John', 'age': 25}.\n",
        "dict = {\"name\":\"John\",\"age\":\"25\"}\n",
        "dict[\"country\"] = \"USA\"\n",
        "print(dict)"
      ],
      "metadata": {
        "colab": {
          "base_uri": "https://localhost:8080/"
        },
        "id": "jrIvyGKxp7MV",
        "outputId": "67d767d9-0bf3-4c9c-e97d-0c1562a10442"
      },
      "execution_count": 29,
      "outputs": [
        {
          "output_type": "stream",
          "name": "stdout",
          "text": [
            "{'name': 'John', 'age': '25', 'country': 'USA'}\n"
          ]
        }
      ]
    },
    {
      "cell_type": "code",
      "source": [
        "# 23. Write a code to access the value associated with the key \"name\" in the dictionary {'name': 'Alice', 'age': 30}.\n",
        "dict = {'name': 'Alice', 'age': 30}\n",
        "print(dict['name'])"
      ],
      "metadata": {
        "colab": {
          "base_uri": "https://localhost:8080/"
        },
        "id": "DF_9LRs8qpy0",
        "outputId": "be60894b-32f0-496b-acb4-a4abb5fc230e"
      },
      "execution_count": 30,
      "outputs": [
        {
          "output_type": "stream",
          "name": "stdout",
          "text": [
            "Alice\n"
          ]
        }
      ]
    },
    {
      "cell_type": "code",
      "source": [
        "# 24. Write a code to remove the key \"age\" from the dictionary {'name': 'Bob', 'age': 22, 'city': 'New York'}.\n",
        "dict = {'name': 'Bob', 'age': 22, 'city': 'New York'}\n",
        "del dict['age']\n",
        "print(dict)"
      ],
      "metadata": {
        "colab": {
          "base_uri": "https://localhost:8080/"
        },
        "id": "YH0wU60qrE0y",
        "outputId": "131f374c-4084-493c-e46b-553693948e96"
      },
      "execution_count": 31,
      "outputs": [
        {
          "output_type": "stream",
          "name": "stdout",
          "text": [
            "{'name': 'Bob', 'city': 'New York'}\n"
          ]
        }
      ]
    },
    {
      "cell_type": "code",
      "source": [
        "# 25. Write a code to check if the key \"city\" exists in the dictionary {'name': 'Alice', 'city': 'Paris'}.\n",
        "dict = {'name': 'Alice', 'city': 'Paris'}\n",
        "print('city' in dict)"
      ],
      "metadata": {
        "colab": {
          "base_uri": "https://localhost:8080/"
        },
        "id": "m4Rr9nChrw9i",
        "outputId": "33f963f1-45a9-461d-8eb8-2b9c631012d9"
      },
      "execution_count": 33,
      "outputs": [
        {
          "output_type": "stream",
          "name": "stdout",
          "text": [
            "True\n"
          ]
        }
      ]
    },
    {
      "cell_type": "code",
      "source": [
        "# 26. Write a code to create a list, a tuple, and a dictionary, and print them\n",
        "list = [1,2,3,4]\n",
        "tuple = (1,2,3,4)\n",
        "dict = {\"name\": \"Arshiya\",\"age\":\"26\",\"city\":\"Beed\"}\n",
        "print(list,tuple,dict)\n"
      ],
      "metadata": {
        "colab": {
          "base_uri": "https://localhost:8080/"
        },
        "id": "M1hoUQ-Tshr-",
        "outputId": "fe2b93fc-ab39-4baa-8047-27cbae5ba6d5"
      },
      "execution_count": 34,
      "outputs": [
        {
          "output_type": "stream",
          "name": "stdout",
          "text": [
            "[1, 2, 3, 4] (1, 2, 3, 4) {'name': 'Arshiya', 'age': '26', 'city': 'Beed'}\n"
          ]
        }
      ]
    },
    {
      "cell_type": "code",
      "source": [
        "# 27. Write a code to create a list of 5 random numbers between 1 and 100, sort it in ascending order, and print the result.\n",
        "list = [1,25,63,24,35]\n",
        "list.sort()\n",
        "print(list)\n"
      ],
      "metadata": {
        "colab": {
          "base_uri": "https://localhost:8080/"
        },
        "id": "FU9qe6HWtkEt",
        "outputId": "4dfbe5bb-429e-4775-9f01-1d11c4391be4"
      },
      "execution_count": 36,
      "outputs": [
        {
          "output_type": "stream",
          "name": "stdout",
          "text": [
            "[1, 24, 25, 35, 63]\n"
          ]
        }
      ]
    },
    {
      "cell_type": "code",
      "source": [
        "# 28. Write a code to create a list with strings and print the element at the third index.\n",
        "list = [\"apple\",\"banana\",\"orange\",\"kiwi\"]\n",
        "print(list[2])"
      ],
      "metadata": {
        "colab": {
          "base_uri": "https://localhost:8080/"
        },
        "id": "6WVqPxunuStr",
        "outputId": "4e025c57-3f80-4fb6-bee5-1dab57d2a16a"
      },
      "execution_count": 38,
      "outputs": [
        {
          "output_type": "stream",
          "name": "stdout",
          "text": [
            "orange\n"
          ]
        }
      ]
    },
    {
      "cell_type": "code",
      "source": [
        "# 29. Write a code to combine two dictionaries into one and print the result.\n",
        "dict1 = {\"name\":\"Arshiya\",\"age\":\"26\"}\n",
        "dict2 = {\"city\":\"Beed\",\"country\":\"India\"}\n",
        "dict1.update(dict2)\n",
        "print(dict1)"
      ],
      "metadata": {
        "colab": {
          "base_uri": "https://localhost:8080/"
        },
        "id": "stlfcXsEu5lg",
        "outputId": "a3a4b497-61a1-4e8e-fcc2-0312e10de9b8"
      },
      "execution_count": 39,
      "outputs": [
        {
          "output_type": "stream",
          "name": "stdout",
          "text": [
            "{'name': 'Arshiya', 'age': '26', 'city': 'Beed', 'country': 'India'}\n"
          ]
        }
      ]
    },
    {
      "cell_type": "code",
      "source": [
        "# 30. Write a code to convert a list of strings into a set.\n",
        "list=[\"banana\",\"apple\",\"orange\"]\n",
        "list_set= set(list)\n",
        "print(list_set)\n",
        "print(type(list_set))"
      ],
      "metadata": {
        "colab": {
          "base_uri": "https://localhost:8080/",
          "height": 211
        },
        "id": "w2vr7Hj7wHp4",
        "outputId": "b541edc9-3c3f-4da2-e1ba-d2a07d919b53"
      },
      "execution_count": 54,
      "outputs": [
        {
          "output_type": "error",
          "ename": "TypeError",
          "evalue": "'list' object is not callable",
          "traceback": [
            "\u001b[0;31m---------------------------------------------------------------------------\u001b[0m",
            "\u001b[0;31mTypeError\u001b[0m                                 Traceback (most recent call last)",
            "\u001b[0;32m/tmp/ipython-input-54-886523668.py\u001b[0m in \u001b[0;36m<cell line: 0>\u001b[0;34m()\u001b[0m\n\u001b[1;32m      1\u001b[0m \u001b[0;31m# 30. Write a code to convert a list of strings into a set.\u001b[0m\u001b[0;34m\u001b[0m\u001b[0;34m\u001b[0m\u001b[0m\n\u001b[1;32m      2\u001b[0m \u001b[0mlist\u001b[0m\u001b[0;34m=\u001b[0m\u001b[0;34m[\u001b[0m\u001b[0;34m\"banana\"\u001b[0m\u001b[0;34m,\u001b[0m\u001b[0;34m\"apple\"\u001b[0m\u001b[0;34m,\u001b[0m\u001b[0;34m\"orange\"\u001b[0m\u001b[0;34m]\u001b[0m\u001b[0;34m\u001b[0m\u001b[0;34m\u001b[0m\u001b[0m\n\u001b[0;32m----> 3\u001b[0;31m \u001b[0mlist_set\u001b[0m\u001b[0;34m=\u001b[0m \u001b[0mset\u001b[0m\u001b[0;34m(\u001b[0m\u001b[0mlist\u001b[0m\u001b[0;34m)\u001b[0m\u001b[0;34m\u001b[0m\u001b[0;34m\u001b[0m\u001b[0m\n\u001b[0m\u001b[1;32m      4\u001b[0m \u001b[0mprint\u001b[0m\u001b[0;34m(\u001b[0m\u001b[0mlist_set\u001b[0m\u001b[0;34m)\u001b[0m\u001b[0;34m\u001b[0m\u001b[0;34m\u001b[0m\u001b[0m\n\u001b[1;32m      5\u001b[0m \u001b[0mprint\u001b[0m\u001b[0;34m(\u001b[0m\u001b[0mtype\u001b[0m\u001b[0;34m(\u001b[0m\u001b[0mlist_set\u001b[0m\u001b[0;34m)\u001b[0m\u001b[0;34m)\u001b[0m\u001b[0;34m\u001b[0m\u001b[0;34m\u001b[0m\u001b[0m\n",
            "\u001b[0;31mTypeError\u001b[0m: 'list' object is not callable"
          ]
        }
      ]
    },
    {
      "cell_type": "code",
      "source": [],
      "metadata": {
        "id": "i5qF3gCtznkE"
      },
      "execution_count": null,
      "outputs": []
    }
  ]
}