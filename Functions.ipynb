{
  "nbformat": 4,
  "nbformat_minor": 0,
  "metadata": {
    "colab": {
      "provenance": [],
      "authorship_tag": "ABX9TyNpT+Tci0okWMiV1W3xHcv7",
      "include_colab_link": true
    },
    "kernelspec": {
      "name": "python3",
      "display_name": "Python 3"
    },
    "language_info": {
      "name": "python"
    }
  },
  "cells": [
    {
      "cell_type": "markdown",
      "metadata": {
        "id": "view-in-github",
        "colab_type": "text"
      },
      "source": [
        "<a href=\"https://colab.research.google.com/github/A-RSH-ART/ASSIGNMENT-/blob/main/Functions.ipynb\" target=\"_parent\"><img src=\"https://colab.research.google.com/assets/colab-badge.svg\" alt=\"Open In Colab\"/></a>"
      ]
    },
    {
      "cell_type": "markdown",
      "source": [
        "**FUNCTIONS ASSIGNMENT**"
      ],
      "metadata": {
        "id": "Ex7ELl6AHRDT"
      }
    },
    {
      "cell_type": "markdown",
      "source": [
        "**THEORY QUESTIONS**"
      ],
      "metadata": {
        "id": "bCX2OtFGHGqu"
      }
    },
    {
      "cell_type": "markdown",
      "source": [
        "1.   What is the difference between a function and a method in Python?\n",
        "\n",
        "- Difference between a function and a method in Python\n",
        "\n",
        "In Python, a function is a standalone block of code that can be executed multiple times from different parts of your program. A method, on the other hand, is a function that is defined inside a class and is used to perform operations on instances of that class.\n",
        "\n",
        "Example:\n",
        "\n",
        "# Function\n",
        "def greet(name):\n",
        "    print(f\"Hello, {name}!\")\n",
        "\n",
        "# Method\n",
        "class Person  :\n",
        "    def __init__(self, name):\n",
        "        self.name = name\n",
        "\n",
        "    def greet(self):\n",
        "        print(f\"Hello, {self.name}!\")\n",
        "\n",
        "person = Person(\"John\")\n",
        "person.greet()  # Output: Hello, John!\n",
        "\n"
      ],
      "metadata": {
        "id": "AUCcLzXQHh6m"
      }
    },
    {
      "cell_type": "markdown",
      "source": [
        "2.  Explain the concept of function arguments and parameters in Python.\n",
        "\n",
        "- Function arguments and parameters\n",
        "In Python, parameters are the variables defined in a function's definition, while arguments are the values passed to a function when it's called.\n",
        "\n",
        "Example:\n",
        "\n",
        "def greet(name):  # name is a parameter\n",
        "    print(f\"Hello, {name}!\")\n",
        "\n",
        "greet(\"Alice\")  # \"Alice\" is an argument\n"
      ],
      "metadata": {
        "id": "jQsl9WoUIPsP"
      }
    },
    {
      "cell_type": "markdown",
      "source": [
        " 3. What are the different ways to define and call a function in Python?\n",
        "\n",
        " Defining and calling a function\n",
        "There are several ways to define and call a function in Python, including:\n",
        "\n",
        "- Defining a function using the def keyword\n",
        "- Calling a function using its name followed by parentheses\n",
        "- Using lambda functions\n",
        "- Using function pointers\n",
        "\n",
        "Example:\n",
        "\n",
        "# Defining a function\n",
        "def add(x, y):\n",
        "    return x + y\n",
        "\n",
        "# Calling a function\n",
        "result = add(2, 3)\n",
        "print(result)  # Output: 5\n",
        "\n",
        "# Lambda function\n",
        "add_lambda = lambda x, y: x + y\n",
        "result = add_lambda(2, 3)\n",
        "print(result)  # Output: 5\n"
      ],
      "metadata": {
        "id": "GVPk_vGJIPoz"
      }
    },
    {
      "cell_type": "markdown",
      "source": [
        " 4. What is the purpose of the `return` statement in a Python function?\n",
        "\n",
        " *Purpose of the return statement*\n",
        "The return statement is used to specify the output of a function. When a function encounters a return statement, it immediately stops executing and returns the specified value to the caller.\n",
        "\n",
        "Example:\n",
        "\n",
        "def square(x):\n",
        "    return x ** 2\n",
        "\n",
        "result = square(4)\n",
        "print(result)  # Output: 16"
      ],
      "metadata": {
        "id": "7h1roOzaIPld"
      }
    },
    {
      "cell_type": "markdown",
      "source": [
        " 5. What are iterators in Python and how do they differ from iterables?\n",
        "\n",
        " -  Iterators and iterables\n",
        "An iterable is an object that can be iterated over, such as a list or a string. An iterator is an object that keeps track of its position in an iterable and returns the next value each time it's called.\n",
        "\n",
        "Example:\n",
        "\n",
        "my_list = [1, 2, 3]\n",
        "my_iter = iter(my_list)\n",
        "\n",
        "print(next(my_iter))  # Output: 1\n",
        "print(next(my_iter))  # Output: 2\n",
        "print(next(my_iter))  # Output: 3\n"
      ],
      "metadata": {
        "id": "7FhyErjJIPiL"
      }
    },
    {
      "cell_type": "markdown",
      "source": [
        " 6. Explain the concept of generators in Python and how they are defined.\n",
        "\n",
        " -   Generators\n",
        "A generator is a special type of iterator that can be used to generate a sequence of values on the fly. Generators are defined using functions and the yield keyword.\n",
        "\n",
        "Example:\n",
        "\n",
        "def infinite_sequence():\n",
        "    num = 0\n",
        "    while True:\n",
        "        yield num\n",
        "        num += 1\n",
        "\n",
        "gen = infinite_sequence()\n",
        "print(next(gen))  # Output: 0\n",
        "print(next(gen))  # Output: 1\n",
        "print(next(gen))  # Output: 2\n",
        "\n",
        "\n"
      ],
      "metadata": {
        "id": "RGkecrtBIPe5"
      }
    },
    {
      "cell_type": "markdown",
      "source": [
        " 7. What are the advantages of using generators over regular functions?\n",
        "\n",
        " -  Advantages of generators\n",
        "Generators have several advantages over regular functions, including:\n",
        "\n",
        "- Memory efficiency: Generators only store the current value, making them more memory-efficient than storing an entire list.\n",
        "- Flexibility: Generators can be used to implement complex sequences and can be easily composed together.\n",
        "\n",
        "Example:\n",
        "\n",
        "def fibonacci(n):\n",
        "    a, b = 0, 1\n",
        "    for _ in range(n):\n",
        "        yield a\n",
        "        a, b = b, a + b\n",
        "\n",
        "for num in fibonacci(10):\n",
        "    print(num)\n",
        "\n"
      ],
      "metadata": {
        "id": "uU6vLUC8IPbp"
      }
    },
    {
      "cell_type": "markdown",
      "source": [
        " 8. What is a lambda function in Python and when is it typically used?\n",
        "\n",
        " - Lambda functions\n",
        "A lambda function is a small, anonymous function that can be defined inline. Lambda functions are often used when a small, one-time-use function is needed.\n",
        "\n",
        "Example:\n",
        "\n",
        "numbers = [1, 2, 3, 4, 5]\n",
        "squared_numbers = list(map(lambda x: x ** 2, numbers))\n",
        "print(squared_numbers)  # Output: [1, 4, 9, 16, 25]\n",
        "\n"
      ],
      "metadata": {
        "id": "M9Gxg3hfIPX9"
      }
    },
    {
      "cell_type": "markdown",
      "source": [
        " 9. Explain the purpose and usage of the `map()` function in Python.\n",
        "\n",
        " -  *map() function*\n",
        "The map() function applies a given function to each item of an iterable and returns a map object.\n",
        "\n",
        "Example:\n",
        "\n",
        "numbers = [1, 2, 3, 4, 5]\n",
        "double_numbers = list(map(lambda x: x * 2, numbers))\n",
        "print(double_numbers)  # Output: [2, 4, 6, 8, 10]"
      ],
      "metadata": {
        "id": "5gNXR7KuK_5p"
      }
    },
    {
      "cell_type": "markdown",
      "source": [
        "10. What is the difference between map(), reduce(), and filter() functions in Python?\n",
        "\n",
        "\n",
        "-  Map, Filter, and Reduce Functions in Python\n",
        "\n",
        "These three functions are powerful tools in Python that allow you to process and manipulate data in a concise and efficient way.\n",
        "\n",
        "Map()\n",
        "- Applies a given function to each item of an iterable (like lists, tuples) and returns a map object.\n",
        "- Used for transforming data.\n",
        "\n",
        "Example:\n",
        "\n",
        "numbers = [1, 2, 3, 4, 5]\n",
        "squared_numbers = list(map(lambda x: x ** 2, numbers))\n",
        "print(squared_numbers)  # Output: [1, 4, 9, 16, 25]\n",
        "\n",
        "\n",
        "Filter()\n",
        "- Creates an iterator from elements of an iterable for which a function returns True.\n",
        "- Used for filtering data.\n",
        "\n",
        "Example:\n",
        "\n",
        "numbers = [1, 2, 3, 4, 5]\n",
        "even_numbers = list(filter(lambda x: x % 2 == 0, numbers))\n",
        "print(even_numbers)  # Output: [2, 4]\n",
        "\n",
        "\n",
        "Reduce()\n",
        "- Applies a function cumulatively to items of an iterable, reducing it to a single value.\n",
        "- Used for aggregating data.\n",
        "\n",
        "Example:\n",
        "\n",
        "from functools import reduce\n",
        "numbers = [1, 2, 3, 4, 5]\n",
        "sum_result = reduce(lambda x, y: x + y, numbers)\n",
        "print(sum_result)  # Output: 15\n",
        "\n",
        "\n",
        "Let's use the provided list [47, 11, 42, 13] to demonstrate these functions:\n",
        "\n",
        "\n",
        "from functools import reduce\n",
        "\n",
        "numbers = [47, 11, 42, 13]\n",
        "\n",
        "# Map: Double each number\n",
        "doubled_numbers = list(map(lambda x: x * 2, numbers))\n",
        "print(doubled_numbers)  # Output: [94, 22, 84, 26]\n",
        "\n",
        "# Filter: Get numbers greater than 30\n",
        "filtered_numbers = list(filter(lambda x: x > 30, numbers))\n",
        "print(filtered_numbers)  # Output: [47, 42]\n",
        "\n",
        "# Reduce: Sum all numbers\n",
        "sum_result = reduce(lambda x, y: x + y, numbers)\n",
        "print(sum_result)  # Output: 113\n",
        "\n",
        "\n"
      ],
      "metadata": {
        "id": "vBagHtAbK_q1"
      }
    },
    {
      "cell_type": "markdown",
      "source": [
        "11. Using pen & Paper write the internal mechanism for sum operation using  reduce function on this given  list:[47,11,42,13];\n",
        "(Attach paper image for this answer) in doc or colab notebook"
      ],
      "metadata": {
        "id": "Awg_RfvsMZ_h"
      }
    },
    {
      "cell_type": "markdown",
      "source": [
        "Practical Questions:\n",
        " 1. Write a Python function that takes a list of numbers as input and returns the sum of all even numbers in\n",
        "the list.\n",
        " 2. Create a Python function that accepts a string and returns the reverse of that string.\n",
        " 3. Implement a Python function that takes a list of integers and returns a new list containing the squares of\n",
        "each number.\n",
        " 4. Write a Python function that checks if a given number is prime or not from 1 to 200.\n",
        " 5. Create an iterator class in Python that generates the Fibonacci sequence up to a specified number of\n",
        "terms.\n",
        " 6. Write a generator function in Python that yields the powers of 2 up to a given exponent.\n",
        " 7. Implement a generator function that reads a file line by line and yields each line as a string.\n",
        " 8. Use a lambda function in Python to sort a list of tuples based on the second element of each tuple.\n",
        " 9. Write a Python program that uses `map()` to convert a list of temperatures from Celsius to Fahrenheit.\n",
        " 10. Create a Python program that uses `filter()` to remove all the vowels from a given string.\n",
        "\n",
        "\n",
        " 11) Imagine an accounting routine used in a book shop. It works on a list with sublists, which look like this:\n",
        " Write a Python program, which returns a list with 2-tuples. Each tuple consists of the order number and the\n",
        "product of the price per item and the quantity. The product should be increased by 10,- € if the value of the\n",
        "order is smaller than 100,00 €.\n",
        " Write a Python program using lambda and map"
      ],
      "metadata": {
        "id": "Zpnd_uccObBc"
      }
    },
    {
      "cell_type": "code",
      "execution_count": 7,
      "metadata": {
        "colab": {
          "base_uri": "https://localhost:8080/"
        },
        "id": "hX_4j4CBHDdG",
        "outputId": "515ca262-c939-4652-cffc-e947accddd1b"
      },
      "outputs": [
        {
          "output_type": "stream",
          "name": "stdout",
          "text": [
            "30\n"
          ]
        }
      ],
      "source": [
        "# 1. Write a Python function that takes a list of numbers as input and returns the sum of all even numbers in the list.\n",
        "\n",
        "def sum_even_numbers(numbers):\n",
        "    return sum(filter(lambda x: x % 2 == 0, numbers))\n",
        "\n",
        "# Example usage:\n",
        "numbers = [1, 2, 3, 4, 5, 6, 7, 8, 9, 10]\n",
        "print(sum_even_numbers(numbers))  # Output: 30\n",
        "\n",
        "\n"
      ]
    },
    {
      "cell_type": "code",
      "source": [
        "# 2. Create a Python function that accepts a string and returns the reverse of that string.\n",
        "\n",
        "def reverse_string(string):\n",
        "    return string[::-1]\n",
        "\n",
        "# Example usage:\n",
        "string = \"Hello, World!\"\n",
        "print(reverse_string(string))  # Output: \"!dlroW ,olleH\"\n"
      ],
      "metadata": {
        "colab": {
          "base_uri": "https://localhost:8080/"
        },
        "id": "rBgJ6JO8Q3dW",
        "outputId": "fb6cc60a-3f26-42d9-de0a-f6e7ca27f8bc"
      },
      "execution_count": 8,
      "outputs": [
        {
          "output_type": "stream",
          "name": "stdout",
          "text": [
            "!dlroW ,olleH\n"
          ]
        }
      ]
    },
    {
      "cell_type": "code",
      "source": [
        "# 3. Implement a Python function that takes a list of integers and returns a new list containing the squares of each number.\n",
        "\n",
        "def square_numbers(numbers):\n",
        "    return list(map(lambda x: x ** 2, numbers))\n",
        "\n",
        "# Example usage:\n",
        "numbers = [1, 2, 3, 4, 5]\n",
        "print(square_numbers(numbers))\n"
      ],
      "metadata": {
        "colab": {
          "base_uri": "https://localhost:8080/"
        },
        "id": "ghu7pG16RO9d",
        "outputId": "6e0e66ab-f952-4c93-c40c-390e5b17464d"
      },
      "execution_count": 9,
      "outputs": [
        {
          "output_type": "stream",
          "name": "stdout",
          "text": [
            "[1, 4, 9, 16, 25]\n"
          ]
        }
      ]
    },
    {
      "cell_type": "code",
      "source": [
        "# 4. Write a Python function that checks if a given number is prime or not from 1 to 200.\n",
        "def is_prime(num):\n",
        "    if num <= 1:\n",
        "        return False\n",
        "    for i in range(2, int(num**0.5) + 1):\n",
        "        if num % i == 0:\n",
        "            return False\n",
        "    return True\n",
        "\n",
        "# Example usage for numbers from 1 to 200:\n",
        "for num in range(1, 201):\n",
        "    if is_prime(num):\n",
        "        print(f\"{num} is prime\")\n",
        "    else:\n",
        "        print(f\"{num} is not prime\")"
      ],
      "metadata": {
        "colab": {
          "base_uri": "https://localhost:8080/"
        },
        "id": "nO_rs8UBRoMJ",
        "outputId": "5c0c4caf-3d76-417c-a95f-101135b01ea8"
      },
      "execution_count": 13,
      "outputs": [
        {
          "output_type": "stream",
          "name": "stdout",
          "text": [
            "1 is not prime\n",
            "2 is prime\n",
            "3 is prime\n",
            "4 is not prime\n",
            "5 is prime\n",
            "6 is not prime\n",
            "7 is prime\n",
            "8 is not prime\n",
            "9 is not prime\n",
            "10 is not prime\n",
            "11 is prime\n",
            "12 is not prime\n",
            "13 is prime\n",
            "14 is not prime\n",
            "15 is not prime\n",
            "16 is not prime\n",
            "17 is prime\n",
            "18 is not prime\n",
            "19 is prime\n",
            "20 is not prime\n",
            "21 is not prime\n",
            "22 is not prime\n",
            "23 is prime\n",
            "24 is not prime\n",
            "25 is not prime\n",
            "26 is not prime\n",
            "27 is not prime\n",
            "28 is not prime\n",
            "29 is prime\n",
            "30 is not prime\n",
            "31 is prime\n",
            "32 is not prime\n",
            "33 is not prime\n",
            "34 is not prime\n",
            "35 is not prime\n",
            "36 is not prime\n",
            "37 is prime\n",
            "38 is not prime\n",
            "39 is not prime\n",
            "40 is not prime\n",
            "41 is prime\n",
            "42 is not prime\n",
            "43 is prime\n",
            "44 is not prime\n",
            "45 is not prime\n",
            "46 is not prime\n",
            "47 is prime\n",
            "48 is not prime\n",
            "49 is not prime\n",
            "50 is not prime\n",
            "51 is not prime\n",
            "52 is not prime\n",
            "53 is prime\n",
            "54 is not prime\n",
            "55 is not prime\n",
            "56 is not prime\n",
            "57 is not prime\n",
            "58 is not prime\n",
            "59 is prime\n",
            "60 is not prime\n",
            "61 is prime\n",
            "62 is not prime\n",
            "63 is not prime\n",
            "64 is not prime\n",
            "65 is not prime\n",
            "66 is not prime\n",
            "67 is prime\n",
            "68 is not prime\n",
            "69 is not prime\n",
            "70 is not prime\n",
            "71 is prime\n",
            "72 is not prime\n",
            "73 is prime\n",
            "74 is not prime\n",
            "75 is not prime\n",
            "76 is not prime\n",
            "77 is not prime\n",
            "78 is not prime\n",
            "79 is prime\n",
            "80 is not prime\n",
            "81 is not prime\n",
            "82 is not prime\n",
            "83 is prime\n",
            "84 is not prime\n",
            "85 is not prime\n",
            "86 is not prime\n",
            "87 is not prime\n",
            "88 is not prime\n",
            "89 is prime\n",
            "90 is not prime\n",
            "91 is not prime\n",
            "92 is not prime\n",
            "93 is not prime\n",
            "94 is not prime\n",
            "95 is not prime\n",
            "96 is not prime\n",
            "97 is prime\n",
            "98 is not prime\n",
            "99 is not prime\n",
            "100 is not prime\n",
            "101 is prime\n",
            "102 is not prime\n",
            "103 is prime\n",
            "104 is not prime\n",
            "105 is not prime\n",
            "106 is not prime\n",
            "107 is prime\n",
            "108 is not prime\n",
            "109 is prime\n",
            "110 is not prime\n",
            "111 is not prime\n",
            "112 is not prime\n",
            "113 is prime\n",
            "114 is not prime\n",
            "115 is not prime\n",
            "116 is not prime\n",
            "117 is not prime\n",
            "118 is not prime\n",
            "119 is not prime\n",
            "120 is not prime\n",
            "121 is not prime\n",
            "122 is not prime\n",
            "123 is not prime\n",
            "124 is not prime\n",
            "125 is not prime\n",
            "126 is not prime\n",
            "127 is prime\n",
            "128 is not prime\n",
            "129 is not prime\n",
            "130 is not prime\n",
            "131 is prime\n",
            "132 is not prime\n",
            "133 is not prime\n",
            "134 is not prime\n",
            "135 is not prime\n",
            "136 is not prime\n",
            "137 is prime\n",
            "138 is not prime\n",
            "139 is prime\n",
            "140 is not prime\n",
            "141 is not prime\n",
            "142 is not prime\n",
            "143 is not prime\n",
            "144 is not prime\n",
            "145 is not prime\n",
            "146 is not prime\n",
            "147 is not prime\n",
            "148 is not prime\n",
            "149 is prime\n",
            "150 is not prime\n",
            "151 is prime\n",
            "152 is not prime\n",
            "153 is not prime\n",
            "154 is not prime\n",
            "155 is not prime\n",
            "156 is not prime\n",
            "157 is prime\n",
            "158 is not prime\n",
            "159 is not prime\n",
            "160 is not prime\n",
            "161 is not prime\n",
            "162 is not prime\n",
            "163 is prime\n",
            "164 is not prime\n",
            "165 is not prime\n",
            "166 is not prime\n",
            "167 is prime\n",
            "168 is not prime\n",
            "169 is not prime\n",
            "170 is not prime\n",
            "171 is not prime\n",
            "172 is not prime\n",
            "173 is prime\n",
            "174 is not prime\n",
            "175 is not prime\n",
            "176 is not prime\n",
            "177 is not prime\n",
            "178 is not prime\n",
            "179 is prime\n",
            "180 is not prime\n",
            "181 is prime\n",
            "182 is not prime\n",
            "183 is not prime\n",
            "184 is not prime\n",
            "185 is not prime\n",
            "186 is not prime\n",
            "187 is not prime\n",
            "188 is not prime\n",
            "189 is not prime\n",
            "190 is not prime\n",
            "191 is prime\n",
            "192 is not prime\n",
            "193 is prime\n",
            "194 is not prime\n",
            "195 is not prime\n",
            "196 is not prime\n",
            "197 is prime\n",
            "198 is not prime\n",
            "199 is prime\n",
            "200 is not prime\n"
          ]
        }
      ]
    },
    {
      "cell_type": "code",
      "source": [
        "# 5. Create an iterator class in Python that generates the Fibonacci sequence up to a specified number of terms.\n",
        "class FibonacciIterator:\n",
        "    def __init__(self, num_terms):\n",
        "        self.num_terms = num_terms\n",
        "        self.current_term = 0\n",
        "        self.a = 0\n",
        "        self.b = 1\n",
        "\n",
        "    def __iter__(self):\n",
        "        return self\n",
        "\n",
        "    def __next__(self):\n",
        "        if self.current_term < self.num_terms:\n",
        "            if self.current_term == 0:\n",
        "                self.current_term += 1\n",
        "                return self.a\n",
        "            elif self.current_term == 1:\n",
        "                self.current_term += 1\n",
        "                return self.b\n",
        "            else:\n",
        "                next_fib = self.a + self.b\n",
        "                self.a = self.b\n",
        "                self.b = next_fib\n",
        "                self.current_term += 1\n",
        "                return next_fib\n",
        "        else:\n",
        "            raise StopIteration\n",
        "\n",
        "# Example usage:\n",
        "fib_iterator = FibonacciIterator(10)\n",
        "for num in fib_iterator:\n",
        "    print(num)\n"
      ],
      "metadata": {
        "colab": {
          "base_uri": "https://localhost:8080/"
        },
        "id": "MzA4xoL1SP3D",
        "outputId": "0c37a712-7cd2-442c-e2a5-de26928e9f30"
      },
      "execution_count": 14,
      "outputs": [
        {
          "output_type": "stream",
          "name": "stdout",
          "text": [
            "0\n",
            "1\n",
            "1\n",
            "2\n",
            "3\n",
            "5\n",
            "8\n",
            "13\n",
            "21\n",
            "34\n"
          ]
        }
      ]
    },
    {
      "cell_type": "code",
      "source": [
        "#  6. Write a generator function in Python that yields the powers of 2 up to a given exponent.\n",
        "def power_of_two_generator(exponent):\n",
        "    for i in range(exponent + 1):\n",
        "        yield 2 ** i\n",
        "\n",
        "# Example usage:\n",
        "power_generator = power_of_two_generator(5)\n",
        "for power in power_generator:\n",
        "    print(power)"
      ],
      "metadata": {
        "colab": {
          "base_uri": "https://localhost:8080/"
        },
        "id": "CjUE6Hj7T0dn",
        "outputId": "cd3185d1-306a-4518-eee4-2efdda4b34c4"
      },
      "execution_count": 16,
      "outputs": [
        {
          "output_type": "stream",
          "name": "stdout",
          "text": [
            "1\n",
            "2\n",
            "4\n",
            "8\n",
            "16\n",
            "32\n"
          ]
        }
      ]
    },
    {
      "cell_type": "code",
      "source": [
        "# Create a dummy file for the generator function to read from\n",
        "with open('example.txt', 'w') as f:\n",
        "    f.write(\"This is the first line.\\n\")\n",
        "    f.write(\"This is the second line.\\n\")\n",
        "    f.write(\"And this is the third line.\")"
      ],
      "metadata": {
        "id": "SHZF603KU8fD"
      },
      "execution_count": 20,
      "outputs": []
    },
    {
      "cell_type": "code",
      "source": [
        "# 7. Implement a generator function that reads a file line by line and yields each line as a string.\n",
        "def read_file_lines(file_path):\n",
        "    with open(file_path, 'r') as file:\n",
        "        for line in file:\n",
        "            yield line.strip()\n",
        "\n",
        "\n",
        "# Example usage:\n",
        "file_path = 'example.txt'\n",
        "line_generator = read_file_lines(file_path)\n",
        "for line in line_generator:\n",
        "    print(line)\n",
        "\n"
      ],
      "metadata": {
        "colab": {
          "base_uri": "https://localhost:8080/"
        },
        "id": "SEHxB2AhT9D2",
        "outputId": "3b44b577-3498-4d9d-ab75-a828b6d945b5"
      },
      "execution_count": 21,
      "outputs": [
        {
          "output_type": "stream",
          "name": "stdout",
          "text": [
            "This is the first line.\n",
            "This is the second line.\n",
            "And this is the third line.\n"
          ]
        }
      ]
    },
    {
      "cell_type": "code",
      "source": [
        "#  8. Use a lambda function in Python to sort a list of tuples based on the second element of each tuple.\n",
        "list_of_tuples = [(1, 'banana'), (3, 'apple'), (2, 'cherry')]\n",
        "\n",
        "sorted_list = sorted(list_of_tuples, key=lambda x: x[1])\n",
        "\n",
        "print(sorted_list)\n"
      ],
      "metadata": {
        "colab": {
          "base_uri": "https://localhost:8080/"
        },
        "id": "CjpLWYhxURGU",
        "outputId": "f92583bb-11cb-4802-ed8b-0a02058d6084"
      },
      "execution_count": 22,
      "outputs": [
        {
          "output_type": "stream",
          "name": "stdout",
          "text": [
            "[(3, 'apple'), (1, 'banana'), (2, 'cherry')]\n"
          ]
        }
      ]
    },
    {
      "cell_type": "code",
      "source": [
        "# 9. Write a Python program that uses `map()` to convert a list of temperatures from Celsius to Fahrenheit.\n",
        "celsius_temperatures = [0, 10, 20, 30, 40]\n",
        "\n",
        "fahrenheit_temperatures = list(map(lambda c: (c * 9/5) + 32, celsius_temperatures))\n"
      ],
      "metadata": {
        "id": "Kv-0BqdFbIO3"
      },
      "execution_count": 23,
      "outputs": []
    },
    {
      "cell_type": "code",
      "source": [
        "#  10. Create a Python program that uses `filter()` to remove all the vowels from a given string.\n",
        "def remove_vowels(text):\n",
        "    vowels = \"aeiouAEIOU\"\n",
        "    return \"\".join(filter(lambda char: char not in vowels, text))\n",
        "\n",
        "# Example usage:\n",
        "input_string = \"Hello, World!\"\n",
        "string_without_vowels = remove_vowels(input_string)\n",
        "print(string_without_vowels)\n"
      ],
      "metadata": {
        "colab": {
          "base_uri": "https://localhost:8080/"
        },
        "id": "Iz4NsUVMbVHu",
        "outputId": "2fa96d33-0649-493c-c1a0-53fd9aaba3d1"
      },
      "execution_count": 24,
      "outputs": [
        {
          "output_type": "stream",
          "name": "stdout",
          "text": [
            "Hll, Wrld!\n"
          ]
        }
      ]
    }
  ]
}