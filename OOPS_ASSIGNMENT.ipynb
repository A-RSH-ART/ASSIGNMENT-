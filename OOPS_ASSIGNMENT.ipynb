{
  "nbformat": 4,
  "nbformat_minor": 0,
  "metadata": {
    "colab": {
      "provenance": [],
      "authorship_tag": "ABX9TyPoG8H6opEkUIF98awem7Vx",
      "include_colab_link": true
    },
    "kernelspec": {
      "name": "python3",
      "display_name": "Python 3"
    },
    "language_info": {
      "name": "python"
    }
  },
  "cells": [
    {
      "cell_type": "markdown",
      "metadata": {
        "id": "view-in-github",
        "colab_type": "text"
      },
      "source": [
        "<a href=\"https://colab.research.google.com/github/A-RSH-ART/ASSIGNMENT-/blob/main/OOPS_ASSIGNMENT.ipynb\" target=\"_parent\"><img src=\"https://colab.research.google.com/assets/colab-badge.svg\" alt=\"Open In Colab\"/></a>"
      ]
    },
    {
      "cell_type": "markdown",
      "source": [
        "## 1. What is Object-Oriented Programming (OOP)?\n",
        "Object-Oriented Programming (OOP) is a programming paradigm that revolves around the concept of objects and classes. It includes features like inheritance, polymorphism, encapsulation, and abstraction.\n",
        "\n",
        "## 2. What is a class in OOP?\n",
        "A class is a blueprint or a template that defines the properties and behavior of an object. It's a collection of variables and methods that define the characteristics of an object.\n",
        "\n",
        "## 3. What is an object in OOP?\n",
        "An object is an instance of a class. It has its own set of attributes (data) and methods (functions) that are defined in the class.\n",
        "\n",
        "## 4. What is the difference between abstraction and encapsulation?\n",
        "Abstraction is the concept of showing only the necessary information to the outside world while hiding the internal details. Encapsulation is the concept of bundling data and methods that operate on that data within a single unit, making it harder for other parts of the program to access or modify the data directly.\n",
        "\n",
        "## 5. What are dunder methods in Python?\n",
        "Dunder methods, short for \"double underscore\" methods, are special methods in Python that are used for operator overloading. They are surrounded by double underscores () on either side of the method name. Examples include __init__, __str__, and __repr__.\n",
        "\n",
        "## 6. Explain the concept of inheritance in OOP.\n",
        "Inheritance is a mechanism in OOP where a new class (the subclass or child class) inherits the properties and behavior of an existing class (the superclass or parent class). The subclass can also add new properties and behavior or override the ones inherited from the superclass.\n",
        "\n",
        "## 7. What is polymorphism in OOP?\n",
        "Polymorphism is the ability of an object to take on multiple forms. This can be achieved through method overriding or method overloading.\n",
        "\n",
        "## 8. How is encapsulation achieved in Python?\n",
        "Encapsulation in Python is achieved using classes and objects. By defining variables and methods within a class, we can encapsulate data and behavior. Python also provides access modifiers like private () and protected (_) to restrict access to certain variables and methods.\n",
        "\n",
        "## 9. What is a constructor in Python?\n",
        "A constructor is a special method in Python that is called when an object is created. It's used to initialize the attributes of the class. In Python, the constructor is defined using the __init__ method.\n",
        "\n",
        "## 10. What are class and static methods in Python?\n",
        "Class methods are methods that are bound to the class rather than an instance of the class. They can access or modify class state. Static methods, on the other hand, are methods that belong to a class rather than an instance of the class. They can't access or modify class state.\n",
        "\n",
        "## 11. What is method overloading in Python?\n",
        "Python doesn't support method overloading in the classical sense. However, we can achieve similar behavior using optional arguments or by using the *args syntax.\n",
        "\n",
        "## 12. What is method overriding in OOP?\n",
        "Method overriding is a feature of OOP where a subclass provides a different implementation of a method that is already defined in its superclass.\n",
        "\n",
        "## 13. What is a property decorator in Python?\n",
        "The property decorator in Python allows us to implement getter, setter, and deleter functionality for attributes of a class.\n",
        "\n",
        "## 14. Why is polymorphism important in OOP?\n",
        "Polymorphism is important in OOP because it allows for more flexibility and generic code. It enables us to write code that can work with different types of data without knowing the specific type at compile time.\n",
        "\n",
        "## 15. What is an abstract class in Python?\n",
        "An abstract class in Python is a class that can't be instantiated and is designed to be inherited by other classes. It can define abstract methods that must be implemented by its subclasses.\n",
        "\n",
        "## 16. What are the advantages of OOP?\n",
        "The advantages of OOP include code reusability, modularity, easier maintenance, and improved readability.\n",
        "\n",
        "## 17. What is the difference between a class variable and an instance variable?\n",
        "A class variable is shared among all instances of a class, whereas an instance variable is unique to each instance of the class.\n",
        "\n",
        "## 18. What is multiple inheritance in Python?\n",
        "Multiple inheritance in Python is a feature where a class can inherit properties and behavior from more than one superclass.\n",
        "\n",
        "## 19. Explain the purpose of “str” and “repr” methods in Python.\n",
        "The __str__ method returns a string representation of an object that is human-readable, while the __repr__ method returns a string representation that is more formal and can be used to recreate the object.\n",
        "\n",
        "## 20. What is the significance of the ‘super()’ function in Python?\n",
        "The super() function in Python is used to access the methods and properties of a superclass from a subclass.\n",
        "\n",
        "## 21. What is the significance of the del method in Python?\n",
        "The __del__ method in Python is a special method that is called when an object is about to be destroyed. It's used to release any system resources that the object might be holding onto. However, it's worth noting that the __del__ method is not guaranteed to be called in all situations, such as when the program exits or when the object is part of a cycle of unreachable objects.\n",
        "\n",
        "## 22. What is the difference between @staticmethod and @classmethod in Python?\n",
        "The main difference between @staticmethod and @classmethod in Python is the way they interact with the class and its instances.\n",
        "\n",
        "- @staticmethod: A static method belongs to a class rather than an instance of the class. It can't access or modify the class state or instance state.\n",
        "- @classmethod: A class method is bound to the class rather than an instance of the class. It can access or modify the class state.\n",
        "\n",
        "## 23. How does polymorphism work in Python with inheritance?\n",
        "Polymorphism in Python with inheritance works by allowing a subclass to provide a different implementation of a method that is already defined in its superclass. When a method is called on an object, Python will first look for the method in the object's class and then in its superclasses. This allows for more flexibility and generic code.\n",
        "\n",
        "## 24. What is method chaining in Python OOP?\n",
        "Method chaining in Python OOP is a technique where multiple methods are called on the same object in a single line of code. Each method returns the object itself, allowing the next method to be called on the same object. This can make the code more concise and easier to read.\n",
        "\n",
        "## 25. What is the purpose of the call method in Python?\n",
        "The __call__ method in Python is a special method that allows an instance of a class to be called as a function. This can be useful when creating classes that need to behave like functions, such as when creating decorators or other types of callable objects. When an instance of a class is called, Python will invoke the __call__ method."
      ],
      "metadata": {
        "id": "TqjZdtDousGM"
      }
    },
    {
      "cell_type": "markdown",
      "source": [
        "Practical Questions\n",
        "\n",
        "1. Create a parent class Animal with a method speak() that prints a generic message. Create a child class Dog that overrides the speak() method to print \"Bark!\".\n",
        "\n",
        "2. Write a program to create an abstract class Shape with a method area(). Derive classes Circle and Rectangle from it and implement the area() method in both.\n",
        "\n",
        "3. Implement a multi-level inheritance scenario where a class Vehicle has an attribute type. Derive a class Car and further derive a class ElectricCar that adds a battery attribute.\n",
        "\n",
        "4. Demonstrate polymorphism by creating a base class Bird with a method fly(). Create two derived classes Sparrow and Penguin that override the fly() method.\n",
        "\n",
        "5. Write a program to demonstrate encapsulation by creating a class BankAccount with private attributes balance and methods to deposit, withdraw, and check balance.\n",
        "\n",
        "6. Demonstrate runtime polymorphism using a method play() in a base class Instrument. Derive classes Guitar and Piano that implement their own version of play().\n",
        "\n",
        "7. Create a class MathOperations with a class method add_numbers() to add two numbers and a static method subtract_numbers() to subtract two numbers.\n",
        "\n",
        "8. Implement a class Person with a class method to count the total number of persons created.\n",
        "\n",
        "9. Write a class Fraction with attributes numerator and denominator. Override the str method to display the fraction as \"numerator/denominator\".\n",
        "\n",
        "10. Demonstrate operator overloading by creating a class Vector and overriding the add method to add two vectors.\n",
        "\n",
        "11. Create a class Person with attributes name and age. Add a method greet() that prints \"Hello, my name is {name} and I am {age} years old.\"\n",
        "\n",
        "12. Implement a class Student with attributes name and grades. Create a method average_grade() to compute the average of the grades.\n",
        "\n",
        "13. Create a class Rectangle with methods set_dimensions() to set the dimensions and area() to calculate the area.\n",
        "#\n",
        "\n",
        "15. Create a class Product with attributes name, price, and quantity. Implement a method total_price() that calculates the total price of the product.\n",
        "\n",
        "16. Create a class Animal with an abstract method sound(). Create two derived classes Cow and Sheep that implement the sound() method.\n",
        "\n",
        "17. Create a class Book with attributes title, author, and year_published. Add a method get_book_info() that returns a formatted string with the book's details.\n",
        "\n",
        "18. Create a class House with attributes address and price. Create a derived class Mansion that adds an attribute number_of_rooms."
      ],
      "metadata": {
        "id": "81we7SvH0gUA"
      }
    },
    {
      "cell_type": "code",
      "execution_count": 1,
      "metadata": {
        "id": "tml_3FTPuk2Z"
      },
      "outputs": [],
      "source": [
        "# 1.create a parent class Animal with a method speak() that prints a generic message. create a child class Dog that overrides the speak() method to print \"Bark!\"\n",
        "class Animal:\n",
        "    def speak(self):\n",
        "        print(\"The animal makes a generic sound.\")\n",
        "\n",
        "class Dog(Animal):\n",
        "    def speak(self):\n",
        "        print(\"The dog barks!\")"
      ]
    },
    {
      "cell_type": "code",
      "source": [
        "#2. Write a program to create an abstract class Shape with a method area(). Derive classes Circle and Rectangle from it and implement the area() method in both.\n",
        "\n",
        "from abc import ABC, abstractmethod\n",
        "\n",
        "class Shape(ABC):\n",
        "    @abstractmethod\n",
        "    def area(self):\n",
        "        pass"
      ],
      "metadata": {
        "id": "Dq9Z8DDq2Tco"
      },
      "execution_count": 2,
      "outputs": []
    },
    {
      "cell_type": "code",
      "source": [
        "#3. Implement a multi-level inheritance scenario where a class Vehicle has an attribute type. Derive a class Car and further derive a class ElectricCar that adds a battery attribute.\n",
        "\n",
        "class Vehicle:\n",
        "    def __init__(self, type):\n",
        "        self.type = type\n",
        "\n",
        "class Car(Vehicle):\n",
        "    def __init__(self, type, num_doors):\n",
        "        super().__init__(type)\n",
        "        self.num_doors = num_doors"
      ],
      "metadata": {
        "id": "GGGBxHe77AqQ"
      },
      "execution_count": 3,
      "outputs": []
    },
    {
      "cell_type": "code",
      "source": [
        "# 4. Demonstrate polymorphism by creating a base class Bird with a method fly(). Create two derived classes Sparrow and Penguin that override the fly() method.\n",
        "\n",
        "class Bird:\n",
        "    def fly(self):\n",
        "        print(\"The bird is flying.\")\n",
        "\n",
        "class Sparrow(Bird):\n",
        "    def fly(self):\n",
        "        print(\"The sparrow is flying.\")"
      ],
      "metadata": {
        "id": "6sVsIHHe7MHO"
      },
      "execution_count": 4,
      "outputs": []
    },
    {
      "cell_type": "code",
      "source": [
        "# 5. Write a program to demonstrate encapsulation by creating a class BankAccount with private attributes balance and methods to deposit, withdraw, and check balance.\n",
        "\n",
        "class BankAccount:\n",
        "    def __init__(self, balance):\n",
        "        self.__balance = balance"
      ],
      "metadata": {
        "id": "yjrN1rxz71x3"
      },
      "execution_count": 5,
      "outputs": []
    },
    {
      "cell_type": "code",
      "source": [
        "# 6. Demonstrate runtime polymorphism using a method play() in a base class Instrument. Derive classes Guitar and Piano that implement their own version of play().\n",
        "\n",
        "class Instrument:\n",
        "    def play(self):\n",
        "        print(\"The instrument is playing.\")\n",
        "\n",
        "class Guitar(Instrument):\n",
        "    def play(self):\n",
        "        print(\"The guitar is playing.\")"
      ],
      "metadata": {
        "id": "CjsVn5U98T7b"
      },
      "execution_count": 6,
      "outputs": []
    },
    {
      "cell_type": "code",
      "source": [
        "# 7.Create a class MathOperations with a class method add_numbers() to add two numbers and a static method subtract_numbers() to subtract two numbers.\n",
        "\n",
        "class MathOperations:\n",
        "    @classmethod\n",
        "    def add_numbers(cls, num1, num2):\n",
        "        return num1 + num2\n"
      ],
      "metadata": {
        "id": "9I5DVm2Y9JNH"
      },
      "execution_count": 7,
      "outputs": []
    },
    {
      "cell_type": "code",
      "source": [
        "8.# Implement a class Person with a class method to count the total number of persons created\n",
        "\n",
        "\n",
        "class Person:\n",
        "    count = 0\n",
        "\n",
        "    def __init__(self):\n",
        "        Person.count += 1\n",
        "\n",
        "    @classmethod\n",
        "    def get_count(cls):\n",
        "        return cls.count"
      ],
      "metadata": {
        "id": "QuBQV1vT-KEd"
      },
      "execution_count": 8,
      "outputs": []
    },
    {
      "cell_type": "code",
      "source": [
        "9.#Write a class Fraction with attributes numerator and denominator. Override the str method to display the fraction as \"numerator/denominator\".\n",
        "\n",
        "class Fraction:\n",
        "    def __init__(self, numerator, denominator):\n",
        "        self.numerator = numerator\n",
        "        self.denominator = denominator\n",
        "\n",
        "    def __str__(self):\n",
        "        return f\"{self.numerator}/{self.denominator}\""
      ],
      "metadata": {
        "id": "BPn_QhUB--PI"
      },
      "execution_count": 9,
      "outputs": []
    },
    {
      "cell_type": "code",
      "source": [
        "10.# Demonstrate operator overloading by creating a class Vector and overriding the add method to add two vectors.\n",
        "\n",
        "class Vector:\n",
        "    def __init__(self, x, y):\n",
        "        self.x = x\n",
        "        self.y = y\n",
        "\n",
        "    def __add__(self, other):\n",
        "        return Vector(self.x + other.x, self.y + other.y)\n"
      ],
      "metadata": {
        "id": "dE854lNE_-01"
      },
      "execution_count": 10,
      "outputs": []
    },
    {
      "cell_type": "code",
      "source": [
        "11.# Create a class Person with attributes name and age. Add a method greet() that prints \"Hello, my name is {name} and I am {age} years old.\"\n",
        "\n",
        "class Person:\n",
        "    def __init__(self, name, age):\n",
        "        self.name = name\n",
        "        self.age = age\n",
        "\n",
        "        def greet(self):\n",
        "            print(f\"Hello, my name is {self.name} and I am {self.age} years old.\")"
      ],
      "metadata": {
        "id": "i9qnbPzLA6S_"
      },
      "execution_count": 12,
      "outputs": []
    },
    {
      "cell_type": "code",
      "source": [
        "#12. Implement a class Student with attributes name and grades. Create a method average_grade() to compute the average of the grades.\n",
        "\n",
        "class Student:\n",
        "    def __init__(self, name, grades):\n",
        "        self.name = name\n",
        "        self.grades = grades\n",
        "\n",
        "    def average_grade(self):\n",
        "        return sum(self.grades) / len(self.grades)"
      ],
      "metadata": {
        "id": "Snb5QdNgBmTY"
      },
      "execution_count": 13,
      "outputs": []
    },
    {
      "cell_type": "code",
      "source": [
        "#13. Create a class Rectangle with methods set_dimensions() to set the dimensions and area() to calculate the area.\n",
        "\n",
        "class Rectangle:\n",
        "    def __init__(self, length, width):\n",
        "        self.length = length\n",
        "        self.width = width\n",
        "\n",
        "    def set_dimensions(self, length, width):\n",
        "        self.length = length\n",
        "        self.width = width\n",
        "    def area(self):\n",
        "        return self.length * self.width\n",
        "\n"
      ],
      "metadata": {
        "id": "AWjKa06sEahl"
      },
      "execution_count": 14,
      "outputs": []
    },
    {
      "cell_type": "code",
      "source": [
        "\n",
        "14.# Create a class Employee with a method calculate_salary() that computes the salary based on hours worked and hourly rate. Create a derived class Manager that adds a bonus to the salary.\n",
        "\n",
        "class Employee:\n",
        "    def calculate_salary(self, hours_worked, hourly_rate):\n",
        "        return hours_worked * hourly"
      ],
      "metadata": {
        "id": "6z6HvHEIFt3Z"
      },
      "execution_count": 15,
      "outputs": []
    },
    {
      "cell_type": "code",
      "source": [
        "#15. Create a class Product with attributes name, price, and quantity. Implement a method total_price() that calculates the total price of the product.\n",
        "\n",
        "class Product:\n",
        "    def __init__(self, name, price, quantity):\n",
        "        self.name = name\n",
        "        self.price = price\n",
        "        self.quantity = quantity\n",
        "\n",
        "    def total_price(self):\n",
        "        return self.price * self.quantity"
      ],
      "metadata": {
        "id": "H7QCMMueGvTc"
      },
      "execution_count": 16,
      "outputs": []
    },
    {
      "cell_type": "code",
      "source": [
        "#16. Create a class Animal with an abstract method sound(). Create two derived classes Cow and Sheep that implement the sound() method.\n",
        "class Animal:\n",
        "    def sound(self):\n",
        "        pass"
      ],
      "metadata": {
        "id": "YeZXsCHKHHb_"
      },
      "execution_count": 17,
      "outputs": []
    },
    {
      "cell_type": "code",
      "source": [
        "#17. Create a class Book with attributes title, author, and year_published. Add a method get_book_info() that returns a formatted string with the book's details.\n",
        "\n",
        "class Book:\n",
        "    def __init__(self, title, author, year_published):\n",
        "        self.title = title\n",
        "        self.author = author\n",
        "        self.year_published = year_published\n",
        "\n",
        "        def get_book_info(self):\n",
        "         return f\"Title: {self.title}\\nAuthor: {self.author}\\nYear Published: {self.year_published}\"\n",
        ""
      ],
      "metadata": {
        "id": "Z9XO0MEZHi1u"
      },
      "execution_count": 20,
      "outputs": []
    },
    {
      "cell_type": "code",
      "source": [
        "#18. Create a class House with attributes address and price. Create a derived class Mansion that adds an attribute number_of_rooms.\n",
        "\n",
        "class House:\n",
        "    def __init__(self, address, price):\n",
        "        self.address = address\n",
        "        self.price = price"
      ],
      "metadata": {
        "id": "axIcKPm5H-uS"
      },
      "execution_count": 19,
      "outputs": []
    },
    {
      "cell_type": "code",
      "source": [],
      "metadata": {
        "id": "VLaS8UXqIfOY"
      },
      "execution_count": null,
      "outputs": []
    }
  ]
}