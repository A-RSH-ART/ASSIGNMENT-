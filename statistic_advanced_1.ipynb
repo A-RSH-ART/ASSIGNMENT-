{
  "nbformat": 4,
  "nbformat_minor": 0,
  "metadata": {
    "colab": {
      "provenance": [],
      "authorship_tag": "ABX9TyNpJzpzdHK+S7LdL434a5xW",
      "include_colab_link": true
    },
    "kernelspec": {
      "name": "python3",
      "display_name": "Python 3"
    },
    "language_info": {
      "name": "python"
    }
  },
  "cells": [
    {
      "cell_type": "markdown",
      "metadata": {
        "id": "view-in-github",
        "colab_type": "text"
      },
      "source": [
        "<a href=\"https://colab.research.google.com/github/A-RSH-ART/ASSIGNMENT-/blob/main/statistic_advanced_1.ipynb\" target=\"_parent\"><img src=\"https://colab.research.google.com/assets/colab-badge.svg\" alt=\"Open In Colab\"/></a>"
      ]
    },
    {
      "cell_type": "markdown",
      "source": [
        "Assignment Code: DA-AG-006\n",
        "Statistics Advanced - 1| Assignment\n",
        "\n",
        "Question 1: What is a random variable in probability theory?\n",
        "\n",
        "Answer:- In probability theory, a random variable is a variable whose value is a numerical outcome of a random phenomenon. It's a function that assigns a numerical value to each possible outcome in a sample space. Think of it as a way to turn the results of an experiment (like flipping a coin or rolling a die) into numbers.\n",
        "\n",
        "For example, if you flip a coin twice, the possible outcomes are HH, HT, TH, TT. A random variable could represent the number of heads, so it would take the values 2, 1, 1, 0 respectively.\n",
        "\n"
      ],
      "metadata": {
        "id": "91RCnM2OyiNV"
      }
    },
    {
      "cell_type": "markdown",
      "source": [
        "Question 2: What are the types of random variables?\n",
        "\n",
        "Answer:-\n",
        "Random variables can be categorized into two main types:\n",
        "\n",
        "Discrete Random Variable: A discrete random variable is a variable that can only take on a finite number of distinct values or a countably infinite number of values. These values are typically integers and often represent counts or categories. Examples include the number of heads in a series of coin flips, the number of cars passing a point on a road in an hour, or the number of defective items in a sample.\n",
        "Continuous Random Variable: A continuous random variable is a variable that can take on any value within a given range or interval. These values are typically real numbers and often represent measurements. Examples include the height of a person, the temperature of a room, the time it takes to complete a task, or the weight of an object.\n",
        "\n"
      ],
      "metadata": {
        "id": "zTO8dx1Q2dFA"
      }
    },
    {
      "cell_type": "markdown",
      "source": [
        "Question 3: Explain the difference between discrete and continuous distributions.\n",
        "\n",
        "Answer:- The difference between discrete and continuous distributions lies in the type of random variable they describe and, consequently, the nature of their probability functions.\n",
        "\n",
        "Discrete Distributions: These describe the probabilities of outcomes for discrete random variables. The key characteristics are:\n",
        "The random variable can only take on specific, distinct values (often integers).\n",
        "Probabilities are assigned to each individual value the random variable can take.\n",
        "The sum of the probabilities for all possible outcomes must equal 1.\n",
        "They are typically represented by a Probability Mass Function (PMF), which gives the probability of each specific outcome.\n",
        "Examples include the Bernoulli distribution, binomial distribution, Poisson distribution, etc.\n",
        "Continuous Distributions: These describe the probabilities of outcomes for continuous random variables. The key characteristics are:\n",
        "The random variable can take on any value within a given range or interval.\n",
        "You cannot assign a probability to a single, specific value (the probability of any exact value is essentially zero).\n",
        "Probabilities are measured over intervals of values.\n",
        "They are typically represented by a Probability Density Function (PDF), which describes the likelihood of the random variable falling within a particular range of values. The area under the PDF curve over an interval gives the probability for that interval.\n",
        "Examples include the normal distribution, uniform distribution, exponential distribution, etc.\n",
        "In essence, discrete distributions deal with countable outcomes and assign probabilities to points, while continuous distributions deal with uncountable outcomes over intervals and use density functions to describe probabilities.\n",
        "\n"
      ],
      "metadata": {
        "id": "jxZPwPZq29JA"
      }
    },
    {
      "cell_type": "markdown",
      "source": [
        "Question 4: What is a binomial distribution, and how is it used in probability?\n",
        "\n",
        "Answer:-A binomial distribution is a discrete probability distribution that describes the number of successes in a fixed number of independent Bernoulli trials, where each trial has only two possible outcomes (success or failure) and the probability of success is constant for each trial.\n",
        "\n",
        "In probability, the binomial distribution is used to model and analyze scenarios where you have a series of identical, independent trials, and you are interested in the probability of observing a certain number of \"successes\" within those trials.\n",
        "\n",
        "Here are some key characteristics of a binomial distribution:\n",
        "\n",
        "Fixed number of trials (n): The experiment consists of a fixed number of repetitions or trials.\n",
        "Independent trials: The outcome of one trial does not affect the outcome of any other trial.\n",
        "Two possible outcomes (success or failure): Each trial has only two mutually exclusive outcomes.\n",
        "Constant probability of success (p): The probability of a \"success\" is the same for every trial.\n",
        "Discrete variable (X): The random variable X represents the number of successes in n trials, which can only take on integer values from 0 to n.\n",
        "The probability mass function (PMF) of a binomial distribution is given by:\n",
        "\n",
        "P(X = k) = C(n, k) * p^k * (1-p)^(n-k)\n",
        "\n",
        "Where:\n",
        "\n",
        "P(X = k) is the probability of getting exactly k successes.\n",
        "C(n, k) is the binomial coefficient, which represents the number of ways to choose k successes from n trials (n! / (k! * (n-k)!)).\n",
        "p is the probability of success on a single trial.\n",
        "(1-p) is the probability of failure on a single trial.\n",
        "n is the number of trials.\n",
        "k is the number of successes.\n",
        "How it is used in probability:\n",
        "\n",
        "The binomial distribution is widely used in various fields to model and analyze situations involving a series of independent trials with binary outcomes. Some examples include:\n",
        "\n",
        "Quality control: Determining the probability of finding a certain number of defective items in a sample.\n",
        "Medical research: Analyzing the success rate of a new treatment in a group of patients.\n",
        "Genetics: Calculating the probability of inheriting a particular trait.\n",
        "Surveys and polling: Estimating the proportion of people who hold a certain opinion.\n",
        "Sports statistics: Analyzing the probability of a player making a certain number of successful shots or attempts.\n",
        "By using the binomial distribution, we can calculate the probabilities of different outcomes, determine expected values, and make inferences about the underlying process.\n",
        "\n"
      ],
      "metadata": {
        "id": "UxneCO2v3Iq-"
      }
    },
    {
      "cell_type": "markdown",
      "source": [
        "Question 5: What is the standard normal distribution, and why is it important?\n",
        "\n",
        "Answer:- The standard normal distribution is a special case of the normal distribution (also known as the Gaussian distribution). It has a mean (μ) of 0 and a standard deviation (σ) of 1.\n",
        "\n",
        "Here are its key characteristics:\n",
        "\n",
        "Symmetric: The distribution is perfectly symmetrical around its mean (0).\n",
        "Bell-shaped: The shape of the distribution is a bell curve.\n",
        "Mean, Median, and Mode are all 0: In a standard normal distribution, these three measures of central tendency are all located at the center, which is 0.\n",
        "Total Area is 1: The total area under the curve is equal to 1, representing 100% probability.\n",
        "Why is it important?\n",
        "\n",
        "The standard normal distribution is important for several reasons:\n",
        "\n",
        "Standardization: Any normal distribution can be transformed into a standard normal distribution by using the z-score formula: z = (x - μ) / σ. This process is called standardization, and it allows us to compare values from different normal distributions.\n",
        "Probability Calculation: With the standard normal distribution, we can easily calculate probabilities associated with different ranges of values using standard normal tables (Z-tables) or statistical software. The Z-table provides the area under the curve to the left of a given z-score, which corresponds to the cumulative probability.\n",
        "Inference and Hypothesis Testing: The standard normal distribution is fundamental in statistical inference and hypothesis testing. Many statistical tests and procedures rely on the assumption of normality and use the standard normal distribution to determine p-values and make decisions about hypotheses.\n",
        "Central Limit Theorem: The Central Limit Theorem states that, under certain conditions, the distribution of sample means approaches a normal distribution as the sample size increases, regardless of the shape of the original population distribution. When the population is normal or the sample size is large, the distribution of sample means is approximately normal, and we can use the standard normal distribution for calculations.\n",
        "Simplification of Calculations: By transforming any normal distribution into a standard normal distribution, we simplify the process of calculating probabilities and working with the distribution. Instead of dealing with different means and standard deviations, we can use a single reference distribution.\n",
        "In summary, the standard normal distribution serves as a universal reference point for normal distributions, allowing for standardization, easy probability calculations, and the application of statistical inference techniques.\n",
        "\n"
      ],
      "metadata": {
        "id": "HNLlf3w74t2M"
      }
    },
    {
      "cell_type": "markdown",
      "source": [
        "Question 6: What is the Central Limit Theorem (CLT), and why is it critical in statistics?\n",
        "\n",
        "Answer:- The Central Limit Theorem (CLT) is a fundamental theorem in statistics. It states that, if you take sufficiently large random samples from any population with a finite mean and variance, the distribution of the sample means will be approximately normally distributed, regardless of the shape of the original population distribution. As the sample size increases, the approximation gets better.\n",
        "\n",
        "Why is it critical in statistics?\n",
        "\n",
        "The Central Limit Theorem is critical in statistics for several reasons:\n",
        "\n",
        "Foundation for Inferential Statistics: The CLT is the cornerstone of many inferential statistical methods. It allows us to make inferences about a population based on a sample, even if we don't know the original population distribution.\n",
        "Approximation of Sampling Distributions: It provides a way to approximate the sampling distribution of the sample mean as a normal distribution. This is incredibly useful because the normal distribution is well-understood, and we have tables and software to easily calculate probabilities and critical values.\n",
        "Confidence Intervals and Hypothesis Testing: The CLT is essential for constructing confidence intervals and conducting hypothesis tests for population means. It allows us to use the properties of the normal distribution to estimate population parameters and test hypotheses about them.\n",
        "Justification for Using Parametric Tests: Many parametric statistical tests (tests that assume a specific distribution for the data, often the normal distribution) rely on the CLT. Even if the original data is not normally distributed, if the sample size is large enough, the sampling distribution of the test statistic will be approximately normal, justifying the use of these tests.\n",
        "Understanding Variability of Sample Means: The CLT also tells us that the standard deviation of the sampling distribution of the sample mean (also known as the standard error) is equal to the population standard deviation divided by the square root of the sample size (σ / √n). This shows that as the sample size increases, the variability of the sample means decreases, meaning our sample mean becomes a more precise estimate of the population mean.\n",
        "In summary, the Central Limit Theorem is critical because it allows us to apply the powerful tools of normal distribution theory to a wide range of problems, even when the underlying population distribution is unknown or non-normal. It makes statistical inference possible and provides a theoretical basis for many common statistical techniques.\n",
        "\n",
        "\n",
        "\n",
        "\n"
      ],
      "metadata": {
        "id": "NsCrWU4E6CpA"
      }
    },
    {
      "cell_type": "markdown",
      "source": [
        "Question 7: What is the significance of confidence intervals in statistical analysis?\n",
        "\n",
        "Answer:-Confidence intervals are a crucial part of statistical analysis because they provide a range of values that is likely to contain the true population parameter (like the mean or proportion). Unlike a single point estimate, which can be misleading on its own, a confidence interval gives us a sense of the precision and uncertainty associated with our estimate.\n",
        "\n",
        "Here's why they are significant:\n",
        "\n",
        "Quantifying Uncertainty: They directly quantify the uncertainty in our estimate. A wider interval indicates more uncertainty, while a narrower interval suggests greater precision. This is vital for making informed decisions.\n",
        "Providing a Range of Plausible Values: They offer a range of plausible values for the population parameter based on the sample data. This helps in understanding the potential variability and what values are reasonable for the true population value.\n",
        "Decision Making: In hypothesis testing, confidence intervals can be used to make decisions. If a hypothesized population parameter falls outside the confidence interval, we can reject the hypothesis.\n",
        "Comparing Groups: Confidence intervals are useful for comparing parameters between different groups. If the confidence intervals for two groups do not overlap, it suggests a statistically significant difference between them.\n",
        "Communication of Results: They provide a more informative way to communicate statistical results than just presenting a point estimate. They convey both the estimated value and the reliability of that estimate.\n",
        "In essence, confidence intervals move beyond simply stating a single best guess for a population parameter and instead provide a more complete picture by incorporating the inherent variability and uncertainty of sampling. They are a fundamental tool for making reliable inferences about populations based on sample data.\n",
        "\n",
        "\n"
      ],
      "metadata": {
        "id": "JnUhP0Oe6iKl"
      }
    },
    {
      "cell_type": "markdown",
      "source": [
        "Question 8: What is the concept of expected value in a probability distribution?"
      ],
      "metadata": {
        "id": "-eITD09q7Hv8"
      }
    },
    {
      "cell_type": "markdown",
      "metadata": {
        "id": "b24438fa"
      },
      "source": [
        "Answer:- The expected value (or expectation) of a random variable is a fundamental concept in probability theory. It represents the average value that the random variable would take over a large number of trials or experiments. It's essentially a weighted average of all possible values that the random variable can take, where the weights are the probabilities of those values occurring.\n",
        "\n",
        "For a discrete random variable X with possible values x₁, x₂, ..., xn and corresponding probabilities P(X=x₁), P(X=x₂), ..., P(X=xn), the expected value E(X) is calculated as:\n",
        "\n",
        "E(X) = Σ [xᵢ * P(X=xᵢ)]  (sum over all possible values of X)\n",
        "\n",
        "For a continuous random variable X with a probability density function (PDF) f(x), the expected value E(X) is calculated using integration:\n",
        "\n",
        "E(X) = ∫ [x * f(x)] dx (integral over the entire range of X)\n",
        "\n",
        "In simpler terms, the expected value tells us what we can \"expect\" on average if we were to repeat the random experiment many times. It's not necessarily a value that the random variable will take in a single trial, but rather a long-term average.\n",
        "\n",
        "Here are some key points about the expected value:\n",
        "\n",
        "It's a measure of central tendency: Like the mean, median, and mode, the expected value gives us a sense of the center of the probability distribution.\n",
        "It represents the theoretical average: It's a theoretical value based on the probabilities of the outcomes, not an actual observed average from a finite number of trials.\n",
        "It can be a non-integer value: Even for discrete random variables, the expected value can be a non-integer. For example, the expected value of rolling a fair six-sided die is 3.5.\n",
        "It's used in various applications: Expected value is widely used in fields like finance (for calculating expected returns), insurance (for setting premiums), game theory (for analyzing strategies), and decision-making under uncertainty.\n",
        "\n",
        "In essence, the expected value provides a single number that summarizes the \"average\" outcome of a random phenomenon, taking into account the probabilities of all possible outcomes."
      ]
    },
    {
      "cell_type": "markdown",
      "source": [
        "Question 9: Write a Python program to generate 1000 random numbers from a normal\n",
        "distribution with mean = 50 and standard deviation = 5. Compute its mean and standard\n",
        "deviation using NumPy, and draw a histogram to visualize the distribution."
      ],
      "metadata": {
        "id": "iVf-qysQJPZp"
      }
    },
    {
      "cell_type": "code",
      "metadata": {
        "colab": {
          "base_uri": "https://localhost:8080/",
          "height": 599
        },
        "id": "0d2b14c1",
        "outputId": "f95f5c4d-b237-4386-9e82-57b9c233414d"
      },
      "source": [
        "import numpy as np\n",
        "import matplotlib.pyplot as plt\n",
        "\n",
        "# 1. Generate 1000 random numbers from a normal distribution\n",
        "mean = 50\n",
        "std_dev = 5\n",
        "num_samples = 1000\n",
        "\n",
        "random_numbers = np.random.normal(mean, std_dev, num_samples)\n",
        "\n",
        "# 2. Compute the mean and standard deviation of the generated sample\n",
        "sample_mean = np.mean(random_numbers)\n",
        "sample_std_dev = np.std(random_numbers)\n",
        "\n",
        "print(f\"Sample Mean: {sample_mean:.2f}\")\n",
        "print(f\"Sample Standard Deviation: {sample_std_dev:.2f}\")\n",
        "\n",
        "# 3. Draw a histogram to visualize the distribution\n",
        "plt.figure(figsize=(10, 6))\n",
        "plt.hist(random_numbers, bins=30, density=True, alpha=0.6, color='g')\n",
        "plt.title('Histogram of Random Numbers from Normal Distribution')\n",
        "plt.xlabel('Value')\n",
        "plt.ylabel('Frequency')\n",
        "plt.grid(True)\n",
        "plt.show()"
      ],
      "execution_count": 1,
      "outputs": [
        {
          "output_type": "stream",
          "name": "stdout",
          "text": [
            "Sample Mean: 50.04\n",
            "Sample Standard Deviation: 5.05\n"
          ]
        },
        {
          "output_type": "display_data",
          "data": {
            "text/plain": [
              "<Figure size 1000x600 with 1 Axes>"
            ],
            "image/png": "[encoded data removed]"
          },
          "metadata": {}
        }
      ]
    },
    {
      "cell_type": "markdown",
      "metadata": {
        "id": "31ca0f7c"
      },
      "source": [
        "This program first generates the random numbers using `np.random.normal()`, then calculates the sample mean and standard deviation using `np.mean()` and `np.std()`. Finally, it uses `matplotlib.pyplot.hist()` to create a histogram visualizing the distribution of the generated random numbers. The `density=True` argument normalizes the histogram so that the area under the bars sums to 1, representing a probability distribution."
      ]
    },
    {
      "cell_type": "markdown",
      "source": [
        "Question 10: You are working as a data analyst for a retail company. The company has\n",
        "collected daily sales data for 2 years and wants you to identify the overall sales trend.\n",
        "daily_sales = [220, 245, 210, 265, 230, 250, 260, 275, 240, 255,\n",
        "235, 260, 245, 250, 225, 270, 265, 255, 250, 260]\n",
        "● Explain how you would apply the Central Limit Theorem to estimate the average sales\n",
        "with a 95% confidence interval.\n",
        "● Write the Python code to compute the mean sales and its confidence interval."
      ],
      "metadata": {
        "id": "OIsW7-8tJjT0"
      }
    },
    {
      "cell_type": "markdown",
      "metadata": {
        "id": "4b322703"
      },
      "source": [
        "**Applying the Central Limit Theorem (CLT) to Estimate Average Sales:**\n",
        "\n",
        "The Central Limit Theorem (CLT) is crucial here because even if the distribution of daily sales for the entire 2-year period is not perfectly normal, the distribution of sample means taken from this data will tend towards a normal distribution as the sample size increases. While the provided `daily_sales` list is a small sample (20 data points), for the purpose of demonstrating the concept, we will assume it's a representative sample from the larger 2-year sales data.\n",
        "\n",
        "To estimate the average sales with a 95% confidence interval using the CLT, you would follow these steps:\n",
        "\n",
        "1.  **Understand the Data:** You have a sample of daily sales data. The goal is to estimate the true average daily sales for the entire 2-year period (the population mean).\n",
        "2.  **Check Conditions (for a larger sample):** For the CLT to apply effectively, you would ideally have a sufficiently large sample size. A common rule of thumb is n > 30, but the theorem's applicability can depend on the skewness of the population distribution. For this example with a small sample, we'll proceed for demonstration.\n",
        "3.  **Calculate the Sample Mean:** Compute the mean of your sample `daily_sales`. This will be your best point estimate for the population mean.\n",
        "4.  **Calculate the Sample Standard Deviation:** Compute the standard deviation of your sample `daily_sales`. This will be used to estimate the population standard deviation, which is needed for the standard error.\n",
        "5.  **Calculate the Standard Error:** The standard error of the mean is an estimate of the standard deviation of the sampling distribution of the sample mean. It's calculated as the sample standard deviation divided by the square root of the sample size (SE = s / √n).\n",
        "6.  **Determine the Critical Value:** For a 95% confidence interval, you need the critical z-value (from the standard normal distribution) or t-value (from the t-distribution, which is more appropriate for small sample sizes when the population standard deviation is unknown). For a 95% confidence interval, the critical z-value is approximately 1.96. If using a t-distribution, the value would depend on the degrees of freedom (n-1). Given the small sample size, using the t-distribution is statistically more appropriate, but for simplicity and demonstrating the CLT's connection to the normal distribution, the explanation often refers to the z-value for larger samples or when the population standard deviation is known. The Python code will use the t-distribution which is more accurate for small samples.\n",
        "7.  **Calculate the Margin of Error:** The margin of error is the critical value multiplied by the standard error (Margin of Error = Critical Value * SE). This value represents the range around the sample mean that is likely to contain the true population mean.\n",
        "8.  **Construct the Confidence Interval:** The confidence interval is calculated as the sample mean plus or minus the margin of error (Confidence Interval = Sample Mean ± Margin of Error). This gives you a range of values within which you are 95% confident the true population mean lies.\n",
        "\n",
        "In essence, the CLT allows us to use the properties of the normal (or t) distribution to construct a confidence interval around our sample mean, providing a range of plausible values for the true average daily sales of the retail company over the 2-year period, even without knowing the distribution of the entire 2 years of data (assuming the sample is random and representative)."
      ]
    },
    {
      "cell_type": "code",
      "metadata": {
        "colab": {
          "base_uri": "https://localhost:8080/"
        },
        "id": "42970c82",
        "outputId": "c202c0f1-ecf7-438f-d013-a07ea17aeafe"
      },
      "source": [
        "import numpy as np\n",
        "from scipy import stats\n",
        "\n",
        "# Daily sales data for 20 days\n",
        "daily_sales = [220, 245, 210, 265, 230, 250, 260, 275, 240, 255,\n",
        "               235, 260, 245, 250, 225, 270, 265, 255, 250, 260]\n",
        "\n",
        "# 1. Calculate the sample mean\n",
        "sample_mean = np.mean(daily_sales)\n",
        "print(f\"Sample Mean Sales: {sample_mean:.2f}\")\n",
        "\n",
        "# 2. Calculate the sample standard deviation\n",
        "sample_std = np.std(daily_sales, ddof=1) # Use ddof=1 for sample standard deviation\n",
        "print(f\"Sample Standard Deviation: {sample_std:.2f}\")\n",
        "\n",
        "# 3. Calculate the standard error of the mean\n",
        "n = len(daily_sales)\n",
        "standard_error = sample_std / np.sqrt(n)\n",
        "print(f\"Standard Error: {standard_error:.2f}\")\n",
        "\n",
        "# 4. Determine the confidence level and alpha\n",
        "confidence_level = 0.95\n",
        "alpha = 1 - confidence_level\n",
        "\n",
        "# 5. Determine the critical value (using t-distribution for small sample)\n",
        "# Degrees of freedom (df) is n - 1\n",
        "degrees_freedom = n - 1\n",
        "# Get the t-critical value for a two-tailed test\n",
        "t_critical = stats.t.ppf(1 - alpha/2, degrees_freedom)\n",
        "print(f\"t-critical value ({confidence_level*100}%): {t_critical:.2f}\")\n",
        "\n",
        "\n",
        "# 6. Calculate the margin of error\n",
        "margin_of_error = t_critical * standard_error\n",
        "print(f\"Margin of Error: {margin_of_error:.2f}\")\n",
        "\n",
        "# 7. Construct the confidence interval\n",
        "confidence_interval_lower = sample_mean - margin_of_error\n",
        "confidence_interval_upper = sample_mean + margin_of_error\n",
        "\n",
        "print(f\"95% Confidence Interval for Mean Sales: ({confidence_interval_lower:.2f}, {confidence_interval_upper:.2f})\")"
      ],
      "execution_count": 2,
      "outputs": [
        {
          "output_type": "stream",
          "name": "stdout",
          "text": [
            "Sample Mean Sales: 248.25\n",
            "Sample Standard Deviation: 17.27\n",
            "Standard Error: 3.86\n",
            "t-critical value (95.0%): 2.09\n",
            "Margin of Error: 8.08\n",
            "95% Confidence Interval for Mean Sales: (240.17, 256.33)\n"
          ]
        }
      ]
    }
  ]
}